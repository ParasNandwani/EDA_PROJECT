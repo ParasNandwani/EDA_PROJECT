{
  "nbformat": 4,
  "nbformat_minor": 0,
  "metadata": {
    "colab": {
      "name": "Tracking CoronaVirus Spread in India.ipynb",
      "provenance": [],
      "collapsed_sections": [],
      "authorship_tag": "ABX9TyP/tA0QSI3muv0oxBYRQpfF",
      "include_colab_link": true
    },
    "kernelspec": {
      "name": "python3",
      "display_name": "Python 3"
    }
  },
  "cells": [
    {
      "cell_type": "markdown",
      "metadata": {
        "id": "view-in-github",
        "colab_type": "text"
      },
      "source": [
        "<a href=\"https://colab.research.google.com/github/ParasNandwani/EDA_PROJECT/blob/master/Tracking_CoronaVirus_Spread_in_India.ipynb\" target=\"_parent\"><img src=\"https://colab.research.google.com/assets/colab-badge.svg\" alt=\"Open In Colab\"/></a>"
      ]
    },
    {
      "cell_type": "code",
      "metadata": {
        "id": "bOG_Iu2t7R8l",
        "colab_type": "code",
        "outputId": "5c604a8f-c076-4cc7-ee22-03f9c9061c03",
        "colab": {
          "base_uri": "https://localhost:8080/",
          "height": 207
        }
      },
      "source": [
        "!pip install pycountry"
      ],
      "execution_count": 1,
      "outputs": [
        {
          "output_type": "stream",
          "text": [
            "Collecting pycountry\n",
            "\u001b[?25l  Downloading https://files.pythonhosted.org/packages/16/b6/154fe93072051d8ce7bf197690957b6d0ac9a21d51c9a1d05bd7c6fdb16f/pycountry-19.8.18.tar.gz (10.0MB)\n",
            "\u001b[K     |████████████████████████████████| 10.0MB 1.8MB/s \n",
            "\u001b[?25hBuilding wheels for collected packages: pycountry\n",
            "  Building wheel for pycountry (setup.py) ... \u001b[?25l\u001b[?25hdone\n",
            "  Created wheel for pycountry: filename=pycountry-19.8.18-py2.py3-none-any.whl size=10627361 sha256=59f3e0a2cf9a0acb480b757279b480e53aeacd5885c4d21814bd8a17b1b681d2\n",
            "  Stored in directory: /root/.cache/pip/wheels/a2/98/bf/f0fa1c6bf8cf2cbdb750d583f84be51c2cd8272460b8b36bd3\n",
            "Successfully built pycountry\n",
            "Installing collected packages: pycountry\n",
            "Successfully installed pycountry-19.8.18\n"
          ],
          "name": "stdout"
        }
      ]
    },
    {
      "cell_type": "code",
      "metadata": {
        "id": "OOVgUlTq9C0f",
        "colab_type": "code",
        "outputId": "ccf02af5-7f5e-4948-8d35-405bfd667776",
        "colab": {
          "base_uri": "https://localhost:8080/",
          "height": 258
        }
      },
      "source": [
        "!pip install pywaffle"
      ],
      "execution_count": 2,
      "outputs": [
        {
          "output_type": "stream",
          "text": [
            "Collecting pywaffle\n",
            "\u001b[?25l  Downloading https://files.pythonhosted.org/packages/4a/34/9781cab04118ad3c825653d5c7642c2c4fab9975186b1ad5276d5ac49ecf/pywaffle-0.5.1-py2.py3-none-any.whl (525kB)\n",
            "\r\u001b[K     |▋                               | 10kB 17.9MB/s eta 0:00:01\r\u001b[K     |█▎                              | 20kB 1.7MB/s eta 0:00:01\r\u001b[K     |█▉                              | 30kB 2.6MB/s eta 0:00:01\r\u001b[K     |██▌                             | 40kB 1.7MB/s eta 0:00:01\r\u001b[K     |███▏                            | 51kB 2.1MB/s eta 0:00:01\r\u001b[K     |███▊                            | 61kB 2.5MB/s eta 0:00:01\r\u001b[K     |████▍                           | 71kB 2.9MB/s eta 0:00:01\r\u001b[K     |█████                           | 81kB 3.3MB/s eta 0:00:01\r\u001b[K     |█████▋                          | 92kB 3.7MB/s eta 0:00:01\r\u001b[K     |██████▎                         | 102kB 2.8MB/s eta 0:00:01\r\u001b[K     |██████▉                         | 112kB 2.8MB/s eta 0:00:01\r\u001b[K     |███████▌                        | 122kB 2.8MB/s eta 0:00:01\r\u001b[K     |████████                        | 133kB 2.8MB/s eta 0:00:01\r\u001b[K     |████████▊                       | 143kB 2.8MB/s eta 0:00:01\r\u001b[K     |█████████▍                      | 153kB 2.8MB/s eta 0:00:01\r\u001b[K     |██████████                      | 163kB 2.8MB/s eta 0:00:01\r\u001b[K     |██████████▋                     | 174kB 2.8MB/s eta 0:00:01\r\u001b[K     |███████████▏                    | 184kB 2.8MB/s eta 0:00:01\r\u001b[K     |███████████▉                    | 194kB 2.8MB/s eta 0:00:01\r\u001b[K     |████████████▌                   | 204kB 2.8MB/s eta 0:00:01\r\u001b[K     |█████████████                   | 215kB 2.8MB/s eta 0:00:01\r\u001b[K     |█████████████▊                  | 225kB 2.8MB/s eta 0:00:01\r\u001b[K     |██████████████▎                 | 235kB 2.8MB/s eta 0:00:01\r\u001b[K     |███████████████                 | 245kB 2.8MB/s eta 0:00:01\r\u001b[K     |███████████████▋                | 256kB 2.8MB/s eta 0:00:01\r\u001b[K     |████████████████▏               | 266kB 2.8MB/s eta 0:00:01\r\u001b[K     |████████████████▉               | 276kB 2.8MB/s eta 0:00:01\r\u001b[K     |█████████████████▌              | 286kB 2.8MB/s eta 0:00:01\r\u001b[K     |██████████████████              | 296kB 2.8MB/s eta 0:00:01\r\u001b[K     |██████████████████▊             | 307kB 2.8MB/s eta 0:00:01\r\u001b[K     |███████████████████▎            | 317kB 2.8MB/s eta 0:00:01\r\u001b[K     |████████████████████            | 327kB 2.8MB/s eta 0:00:01\r\u001b[K     |████████████████████▋           | 337kB 2.8MB/s eta 0:00:01\r\u001b[K     |█████████████████████▏          | 348kB 2.8MB/s eta 0:00:01\r\u001b[K     |█████████████████████▉          | 358kB 2.8MB/s eta 0:00:01\r\u001b[K     |██████████████████████▍         | 368kB 2.8MB/s eta 0:00:01\r\u001b[K     |███████████████████████         | 378kB 2.8MB/s eta 0:00:01\r\u001b[K     |███████████████████████▊        | 389kB 2.8MB/s eta 0:00:01\r\u001b[K     |████████████████████████▎       | 399kB 2.8MB/s eta 0:00:01\r\u001b[K     |█████████████████████████       | 409kB 2.8MB/s eta 0:00:01\r\u001b[K     |█████████████████████████▌      | 419kB 2.8MB/s eta 0:00:01\r\u001b[K     |██████████████████████████▏     | 430kB 2.8MB/s eta 0:00:01\r\u001b[K     |██████████████████████████▉     | 440kB 2.8MB/s eta 0:00:01\r\u001b[K     |███████████████████████████▍    | 450kB 2.8MB/s eta 0:00:01\r\u001b[K     |████████████████████████████    | 460kB 2.8MB/s eta 0:00:01\r\u001b[K     |████████████████████████████▋   | 471kB 2.8MB/s eta 0:00:01\r\u001b[K     |█████████████████████████████▎  | 481kB 2.8MB/s eta 0:00:01\r\u001b[K     |██████████████████████████████  | 491kB 2.8MB/s eta 0:00:01\r\u001b[K     |██████████████████████████████▌ | 501kB 2.8MB/s eta 0:00:01\r\u001b[K     |███████████████████████████████▏| 512kB 2.8MB/s eta 0:00:01\r\u001b[K     |███████████████████████████████▉| 522kB 2.8MB/s eta 0:00:01\r\u001b[K     |████████████████████████████████| 532kB 2.8MB/s \n",
            "\u001b[?25hRequirement already satisfied: matplotlib in /usr/local/lib/python3.6/dist-packages (from pywaffle) (3.2.1)\n",
            "Requirement already satisfied: kiwisolver>=1.0.1 in /usr/local/lib/python3.6/dist-packages (from matplotlib->pywaffle) (1.1.0)\n",
            "Requirement already satisfied: python-dateutil>=2.1 in /usr/local/lib/python3.6/dist-packages (from matplotlib->pywaffle) (2.8.1)\n",
            "Requirement already satisfied: pyparsing!=2.0.4,!=2.1.2,!=2.1.6,>=2.0.1 in /usr/local/lib/python3.6/dist-packages (from matplotlib->pywaffle) (2.4.6)\n",
            "Requirement already satisfied: cycler>=0.10 in /usr/local/lib/python3.6/dist-packages (from matplotlib->pywaffle) (0.10.0)\n",
            "Requirement already satisfied: numpy>=1.11 in /usr/local/lib/python3.6/dist-packages (from matplotlib->pywaffle) (1.18.2)\n",
            "Requirement already satisfied: setuptools in /usr/local/lib/python3.6/dist-packages (from kiwisolver>=1.0.1->matplotlib->pywaffle) (46.0.0)\n",
            "Requirement already satisfied: six>=1.5 in /usr/local/lib/python3.6/dist-packages (from python-dateutil>=2.1->matplotlib->pywaffle) (1.12.0)\n",
            "Installing collected packages: pywaffle\n",
            "Successfully installed pywaffle-0.5.1\n"
          ],
          "name": "stdout"
        }
      ]
    },
    {
      "cell_type": "code",
      "metadata": {
        "id": "5qSChPto6V6X",
        "colab_type": "code",
        "outputId": "2b7548b3-1559-4fc2-9ace-391866221e22",
        "colab": {
          "base_uri": "https://localhost:8080/",
          "height": 17
        }
      },
      "source": [
        "#import necessasry library\n",
        "import numpy as np\n",
        "import pandas as pd \n",
        "import os\n",
        "\n",
        "#import baskic ploting libraries\n",
        "import matplotlib.pyplot as plt\n",
        "\n",
        "%matplotlib inline\n",
        "import seaborn as sns\n",
        "sns.set()\n",
        "import pycountry\n",
        "\n",
        "# importing plotly libraries\n",
        "import plotly.express as px\n",
        "from plotly.offline import init_notebook_mode,iplot\n",
        "import plotly.graph_objects as go\n",
        "import plotly.offline as py\n",
        "from plotly.offline import download_plotlyjs,init_notebook_mode,iplot\n",
        "\n",
        "from pywaffle import Waffle\n",
        "py.init_notebook_mode(connected=True)\n",
        "import folium\n",
        "from folium import plugins\n",
        "\n",
        "\n",
        "plt.style.use('fivethirtyeight')\n",
        "plt.rcParams['figure.figsize']=8,5\n",
        "\n",
        "\n",
        "import warnings\n",
        "warnings.filterwarnings('ignore')"
      ],
      "execution_count": 3,
      "outputs": [
        {
          "output_type": "display_data",
          "data": {
            "text/html": [
              "        <script type=\"text/javascript\">\n",
              "        window.PlotlyConfig = {MathJaxConfig: 'local'};\n",
              "        if (window.MathJax) {MathJax.Hub.Config({SVG: {font: \"STIX-Web\"}});}\n",
              "        if (typeof require !== 'undefined') {\n",
              "        require.undef(\"plotly\");\n",
              "        requirejs.config({\n",
              "            paths: {\n",
              "                'plotly': ['https://cdn.plot.ly/plotly-latest.min']\n",
              "            }\n",
              "        });\n",
              "        require(['plotly'], function(Plotly) {\n",
              "            window._Plotly = Plotly;\n",
              "        });\n",
              "        }\n",
              "        </script>\n",
              "        "
            ]
          },
          "metadata": {
            "tags": []
          }
        }
      ]
    },
    {
      "cell_type": "code",
      "metadata": {
        "id": "GqY2Rih59_NC",
        "colab_type": "code",
        "outputId": "1590d417-be04-4210-aed9-183de914b4d8",
        "colab": {
          "base_uri": "https://localhost:8080/",
          "height": 204
        }
      },
      "source": [
        "df=pd.read_csv('https://raw.githubusercontent.com/ParasNandwani/EDA_PROJECT/master/CoronaVirusIndia/Covid%20cases%20in%20India.csv')\n",
        "df.head()"
      ],
      "execution_count": 4,
      "outputs": [
        {
          "output_type": "execute_result",
          "data": {
            "text/html": [
              "<div>\n",
              "<style scoped>\n",
              "    .dataframe tbody tr th:only-of-type {\n",
              "        vertical-align: middle;\n",
              "    }\n",
              "\n",
              "    .dataframe tbody tr th {\n",
              "        vertical-align: top;\n",
              "    }\n",
              "\n",
              "    .dataframe thead th {\n",
              "        text-align: right;\n",
              "    }\n",
              "</style>\n",
              "<table border=\"1\" class=\"dataframe\">\n",
              "  <thead>\n",
              "    <tr style=\"text-align: right;\">\n",
              "      <th></th>\n",
              "      <th>S. No.</th>\n",
              "      <th>Name of State / UT</th>\n",
              "      <th>Total Confirmed cases (Indian National)</th>\n",
              "      <th>Total Confirmed cases ( Foreign National )</th>\n",
              "      <th>Cured/Discharged/Migrated</th>\n",
              "      <th>Deaths</th>\n",
              "    </tr>\n",
              "  </thead>\n",
              "  <tbody>\n",
              "    <tr>\n",
              "      <th>0</th>\n",
              "      <td>1.0</td>\n",
              "      <td>Andhra Pradesh</td>\n",
              "      <td>3</td>\n",
              "      <td>0</td>\n",
              "      <td>0</td>\n",
              "      <td>0</td>\n",
              "    </tr>\n",
              "    <tr>\n",
              "      <th>1</th>\n",
              "      <td>2.0</td>\n",
              "      <td>Chattisgarh</td>\n",
              "      <td>1</td>\n",
              "      <td>0</td>\n",
              "      <td>0</td>\n",
              "      <td>0</td>\n",
              "    </tr>\n",
              "    <tr>\n",
              "      <th>2</th>\n",
              "      <td>3.0</td>\n",
              "      <td>Delhi</td>\n",
              "      <td>16</td>\n",
              "      <td>1</td>\n",
              "      <td>5</td>\n",
              "      <td>1</td>\n",
              "    </tr>\n",
              "    <tr>\n",
              "      <th>3</th>\n",
              "      <td>NaN</td>\n",
              "      <td>Gujarat</td>\n",
              "      <td>5</td>\n",
              "      <td>0</td>\n",
              "      <td>0</td>\n",
              "      <td>0</td>\n",
              "    </tr>\n",
              "    <tr>\n",
              "      <th>4</th>\n",
              "      <td>4.0</td>\n",
              "      <td>Haryana</td>\n",
              "      <td>3</td>\n",
              "      <td>14</td>\n",
              "      <td>0</td>\n",
              "      <td>0</td>\n",
              "    </tr>\n",
              "  </tbody>\n",
              "</table>\n",
              "</div>"
            ],
            "text/plain": [
              "   S. No. Name of State / UT  ...  Cured/Discharged/Migrated  Deaths\n",
              "0     1.0     Andhra Pradesh  ...                          0       0\n",
              "1     2.0        Chattisgarh  ...                          0       0\n",
              "2     3.0              Delhi  ...                          5       1\n",
              "3     NaN            Gujarat  ...                          0       0\n",
              "4     4.0            Haryana  ...                          0       0\n",
              "\n",
              "[5 rows x 6 columns]"
            ]
          },
          "metadata": {
            "tags": []
          },
          "execution_count": 4
        }
      ]
    },
    {
      "cell_type": "code",
      "metadata": {
        "id": "HBbHFnMQENfl",
        "colab_type": "code",
        "outputId": "bce0757e-1a7c-4a6d-8060-7b206898be36",
        "colab": {
          "base_uri": "https://localhost:8080/",
          "height": 102
        }
      },
      "source": [
        "df.columns"
      ],
      "execution_count": 5,
      "outputs": [
        {
          "output_type": "execute_result",
          "data": {
            "text/plain": [
              "Index(['S. No.', 'Name of State / UT',\n",
              "       'Total Confirmed cases (Indian National)',\n",
              "       'Total Confirmed cases ( Foreign National )',\n",
              "       'Cured/Discharged/Migrated', 'Deaths'],\n",
              "      dtype='object')"
            ]
          },
          "metadata": {
            "tags": []
          },
          "execution_count": 5
        }
      ]
    },
    {
      "cell_type": "code",
      "metadata": {
        "id": "965ZOBfPCmpg",
        "colab_type": "code",
        "colab": {}
      },
      "source": [
        "df.drop(['S. No.'],axis=1,inplace=True)\n",
        "\n"
      ],
      "execution_count": 0,
      "outputs": []
    },
    {
      "cell_type": "code",
      "metadata": {
        "id": "obaynhjkA9im",
        "colab_type": "code",
        "colab": {}
      },
      "source": [
        "df['TotalCases']=df['Total Confirmed cases (Indian National)']+df['Total Confirmed cases ( Foreign National )']\n"
      ],
      "execution_count": 0,
      "outputs": []
    },
    {
      "cell_type": "code",
      "metadata": {
        "id": "DHFL-4EwCFGM",
        "colab_type": "code",
        "colab": {
          "base_uri": "https://localhost:8080/",
          "height": 204
        },
        "outputId": "b333e661-d972-40da-d478-8af7587f69ec"
      },
      "source": [
        "df.head(5)"
      ],
      "execution_count": 8,
      "outputs": [
        {
          "output_type": "execute_result",
          "data": {
            "text/html": [
              "<div>\n",
              "<style scoped>\n",
              "    .dataframe tbody tr th:only-of-type {\n",
              "        vertical-align: middle;\n",
              "    }\n",
              "\n",
              "    .dataframe tbody tr th {\n",
              "        vertical-align: top;\n",
              "    }\n",
              "\n",
              "    .dataframe thead th {\n",
              "        text-align: right;\n",
              "    }\n",
              "</style>\n",
              "<table border=\"1\" class=\"dataframe\">\n",
              "  <thead>\n",
              "    <tr style=\"text-align: right;\">\n",
              "      <th></th>\n",
              "      <th>Name of State / UT</th>\n",
              "      <th>Total Confirmed cases (Indian National)</th>\n",
              "      <th>Total Confirmed cases ( Foreign National )</th>\n",
              "      <th>Cured/Discharged/Migrated</th>\n",
              "      <th>Deaths</th>\n",
              "      <th>TotalCases</th>\n",
              "    </tr>\n",
              "  </thead>\n",
              "  <tbody>\n",
              "    <tr>\n",
              "      <th>0</th>\n",
              "      <td>Andhra Pradesh</td>\n",
              "      <td>3</td>\n",
              "      <td>0</td>\n",
              "      <td>0</td>\n",
              "      <td>0</td>\n",
              "      <td>3</td>\n",
              "    </tr>\n",
              "    <tr>\n",
              "      <th>1</th>\n",
              "      <td>Chattisgarh</td>\n",
              "      <td>1</td>\n",
              "      <td>0</td>\n",
              "      <td>0</td>\n",
              "      <td>0</td>\n",
              "      <td>1</td>\n",
              "    </tr>\n",
              "    <tr>\n",
              "      <th>2</th>\n",
              "      <td>Delhi</td>\n",
              "      <td>16</td>\n",
              "      <td>1</td>\n",
              "      <td>5</td>\n",
              "      <td>1</td>\n",
              "      <td>17</td>\n",
              "    </tr>\n",
              "    <tr>\n",
              "      <th>3</th>\n",
              "      <td>Gujarat</td>\n",
              "      <td>5</td>\n",
              "      <td>0</td>\n",
              "      <td>0</td>\n",
              "      <td>0</td>\n",
              "      <td>5</td>\n",
              "    </tr>\n",
              "    <tr>\n",
              "      <th>4</th>\n",
              "      <td>Haryana</td>\n",
              "      <td>3</td>\n",
              "      <td>14</td>\n",
              "      <td>0</td>\n",
              "      <td>0</td>\n",
              "      <td>17</td>\n",
              "    </tr>\n",
              "  </tbody>\n",
              "</table>\n",
              "</div>"
            ],
            "text/plain": [
              "  Name of State / UT  ...  TotalCases\n",
              "0     Andhra Pradesh  ...           3\n",
              "1        Chattisgarh  ...           1\n",
              "2              Delhi  ...          17\n",
              "3            Gujarat  ...           5\n",
              "4            Haryana  ...          17\n",
              "\n",
              "[5 rows x 6 columns]"
            ]
          },
          "metadata": {
            "tags": []
          },
          "execution_count": 8
        }
      ]
    },
    {
      "cell_type": "code",
      "metadata": {
        "id": "JEwadlPeBW6e",
        "colab_type": "code",
        "colab": {}
      },
      "source": [
        "df['ActiveCases']=df['TotalCases']-(df['Cured/Discharged/Migrated']+df['Deaths'])"
      ],
      "execution_count": 0,
      "outputs": []
    },
    {
      "cell_type": "code",
      "metadata": {
        "id": "S7i_PBXKBp3c",
        "colab_type": "code",
        "outputId": "8a8a367f-3ca7-44ce-9df3-50f068797d11",
        "colab": {
          "base_uri": "https://localhost:8080/",
          "height": 102
        }
      },
      "source": [
        "print(f'Total no. of confirmed cases in India',df['TotalCases'].sum())\n",
        "print(f'Total no. of Active cases in India',df['ActiveCases'].sum())\n",
        "print(f'Total No Of Cured Cases in India',df['Cured/Discharged/Migrated'].sum())\n",
        "print(f'Total No Of Deaths in India',df['Deaths'].sum())\n",
        "print(f'Total No Of States Affected in India', len(df['Name of State / UT']))"
      ],
      "execution_count": 10,
      "outputs": [
        {
          "output_type": "stream",
          "text": [
            "Total no. of confirmed cases in India 223\n",
            "Total no. of Active cases in India 196\n",
            "Total No Of Cured Cases in India 23\n",
            "Total No Of Deaths in India 4\n",
            "Total No Of States Affected in India 20\n"
          ],
          "name": "stdout"
        }
      ]
    },
    {
      "cell_type": "code",
      "metadata": {
        "id": "WT7zRnFbMJKT",
        "colab_type": "code",
        "outputId": "37572b65-3c70-4dbc-d6be-678e9b9469b9",
        "colab": {
          "base_uri": "https://localhost:8080/",
          "height": 460
        }
      },
      "source": [
        "def highlightMax(s):\n",
        "  is_max=s==s.max()\n",
        "  return ['background-color:pink' if v else '' for v in is_max]\n",
        "\n",
        "df.style.apply(highlightMax,subset=['Cured/Discharged/Migrated','Deaths','TotalCases','ActiveCases'])"
      ],
      "execution_count": 12,
      "outputs": [
        {
          "output_type": "execute_result",
          "data": {
            "text/html": [
              "<style  type=\"text/css\" >\n",
              "    #T_ff720dd0_71b6_11ea_bdff_0242ac1c0002row2_col4 {\n",
              "            background-color: pink;\n",
              "        }    #T_ff720dd0_71b6_11ea_bdff_0242ac1c0002row5_col4 {\n",
              "            background-color: pink;\n",
              "        }    #T_ff720dd0_71b6_11ea_bdff_0242ac1c0002row7_col4 {\n",
              "            background-color: pink;\n",
              "        }    #T_ff720dd0_71b6_11ea_bdff_0242ac1c0002row7_col5 {\n",
              "            background-color: pink;\n",
              "        }    #T_ff720dd0_71b6_11ea_bdff_0242ac1c0002row7_col6 {\n",
              "            background-color: pink;\n",
              "        }    #T_ff720dd0_71b6_11ea_bdff_0242ac1c0002row10_col4 {\n",
              "            background-color: pink;\n",
              "        }    #T_ff720dd0_71b6_11ea_bdff_0242ac1c0002row17_col3 {\n",
              "            background-color: pink;\n",
              "        }</style><table id=\"T_ff720dd0_71b6_11ea_bdff_0242ac1c0002\" ><thead>    <tr>        <th class=\"blank level0\" ></th>        <th class=\"col_heading level0 col0\" >Name of State / UT</th>        <th class=\"col_heading level0 col1\" >Total Confirmed cases (Indian National)</th>        <th class=\"col_heading level0 col2\" >Total Confirmed cases ( Foreign National )</th>        <th class=\"col_heading level0 col3\" >Cured/Discharged/Migrated</th>        <th class=\"col_heading level0 col4\" >Deaths</th>        <th class=\"col_heading level0 col5\" >TotalCases</th>        <th class=\"col_heading level0 col6\" >ActiveCases</th>    </tr></thead><tbody>\n",
              "                <tr>\n",
              "                        <th id=\"T_ff720dd0_71b6_11ea_bdff_0242ac1c0002level0_row0\" class=\"row_heading level0 row0\" >0</th>\n",
              "                        <td id=\"T_ff720dd0_71b6_11ea_bdff_0242ac1c0002row0_col0\" class=\"data row0 col0\" >Andhra Pradesh</td>\n",
              "                        <td id=\"T_ff720dd0_71b6_11ea_bdff_0242ac1c0002row0_col1\" class=\"data row0 col1\" >3</td>\n",
              "                        <td id=\"T_ff720dd0_71b6_11ea_bdff_0242ac1c0002row0_col2\" class=\"data row0 col2\" >0</td>\n",
              "                        <td id=\"T_ff720dd0_71b6_11ea_bdff_0242ac1c0002row0_col3\" class=\"data row0 col3\" >0</td>\n",
              "                        <td id=\"T_ff720dd0_71b6_11ea_bdff_0242ac1c0002row0_col4\" class=\"data row0 col4\" >0</td>\n",
              "                        <td id=\"T_ff720dd0_71b6_11ea_bdff_0242ac1c0002row0_col5\" class=\"data row0 col5\" >3</td>\n",
              "                        <td id=\"T_ff720dd0_71b6_11ea_bdff_0242ac1c0002row0_col6\" class=\"data row0 col6\" >3</td>\n",
              "            </tr>\n",
              "            <tr>\n",
              "                        <th id=\"T_ff720dd0_71b6_11ea_bdff_0242ac1c0002level0_row1\" class=\"row_heading level0 row1\" >1</th>\n",
              "                        <td id=\"T_ff720dd0_71b6_11ea_bdff_0242ac1c0002row1_col0\" class=\"data row1 col0\" >Chattisgarh</td>\n",
              "                        <td id=\"T_ff720dd0_71b6_11ea_bdff_0242ac1c0002row1_col1\" class=\"data row1 col1\" >1</td>\n",
              "                        <td id=\"T_ff720dd0_71b6_11ea_bdff_0242ac1c0002row1_col2\" class=\"data row1 col2\" >0</td>\n",
              "                        <td id=\"T_ff720dd0_71b6_11ea_bdff_0242ac1c0002row1_col3\" class=\"data row1 col3\" >0</td>\n",
              "                        <td id=\"T_ff720dd0_71b6_11ea_bdff_0242ac1c0002row1_col4\" class=\"data row1 col4\" >0</td>\n",
              "                        <td id=\"T_ff720dd0_71b6_11ea_bdff_0242ac1c0002row1_col5\" class=\"data row1 col5\" >1</td>\n",
              "                        <td id=\"T_ff720dd0_71b6_11ea_bdff_0242ac1c0002row1_col6\" class=\"data row1 col6\" >1</td>\n",
              "            </tr>\n",
              "            <tr>\n",
              "                        <th id=\"T_ff720dd0_71b6_11ea_bdff_0242ac1c0002level0_row2\" class=\"row_heading level0 row2\" >2</th>\n",
              "                        <td id=\"T_ff720dd0_71b6_11ea_bdff_0242ac1c0002row2_col0\" class=\"data row2 col0\" >Delhi</td>\n",
              "                        <td id=\"T_ff720dd0_71b6_11ea_bdff_0242ac1c0002row2_col1\" class=\"data row2 col1\" >16</td>\n",
              "                        <td id=\"T_ff720dd0_71b6_11ea_bdff_0242ac1c0002row2_col2\" class=\"data row2 col2\" >1</td>\n",
              "                        <td id=\"T_ff720dd0_71b6_11ea_bdff_0242ac1c0002row2_col3\" class=\"data row2 col3\" >5</td>\n",
              "                        <td id=\"T_ff720dd0_71b6_11ea_bdff_0242ac1c0002row2_col4\" class=\"data row2 col4\" >1</td>\n",
              "                        <td id=\"T_ff720dd0_71b6_11ea_bdff_0242ac1c0002row2_col5\" class=\"data row2 col5\" >17</td>\n",
              "                        <td id=\"T_ff720dd0_71b6_11ea_bdff_0242ac1c0002row2_col6\" class=\"data row2 col6\" >11</td>\n",
              "            </tr>\n",
              "            <tr>\n",
              "                        <th id=\"T_ff720dd0_71b6_11ea_bdff_0242ac1c0002level0_row3\" class=\"row_heading level0 row3\" >3</th>\n",
              "                        <td id=\"T_ff720dd0_71b6_11ea_bdff_0242ac1c0002row3_col0\" class=\"data row3 col0\" >Gujarat</td>\n",
              "                        <td id=\"T_ff720dd0_71b6_11ea_bdff_0242ac1c0002row3_col1\" class=\"data row3 col1\" >5</td>\n",
              "                        <td id=\"T_ff720dd0_71b6_11ea_bdff_0242ac1c0002row3_col2\" class=\"data row3 col2\" >0</td>\n",
              "                        <td id=\"T_ff720dd0_71b6_11ea_bdff_0242ac1c0002row3_col3\" class=\"data row3 col3\" >0</td>\n",
              "                        <td id=\"T_ff720dd0_71b6_11ea_bdff_0242ac1c0002row3_col4\" class=\"data row3 col4\" >0</td>\n",
              "                        <td id=\"T_ff720dd0_71b6_11ea_bdff_0242ac1c0002row3_col5\" class=\"data row3 col5\" >5</td>\n",
              "                        <td id=\"T_ff720dd0_71b6_11ea_bdff_0242ac1c0002row3_col6\" class=\"data row3 col6\" >5</td>\n",
              "            </tr>\n",
              "            <tr>\n",
              "                        <th id=\"T_ff720dd0_71b6_11ea_bdff_0242ac1c0002level0_row4\" class=\"row_heading level0 row4\" >4</th>\n",
              "                        <td id=\"T_ff720dd0_71b6_11ea_bdff_0242ac1c0002row4_col0\" class=\"data row4 col0\" >Haryana</td>\n",
              "                        <td id=\"T_ff720dd0_71b6_11ea_bdff_0242ac1c0002row4_col1\" class=\"data row4 col1\" >3</td>\n",
              "                        <td id=\"T_ff720dd0_71b6_11ea_bdff_0242ac1c0002row4_col2\" class=\"data row4 col2\" >14</td>\n",
              "                        <td id=\"T_ff720dd0_71b6_11ea_bdff_0242ac1c0002row4_col3\" class=\"data row4 col3\" >0</td>\n",
              "                        <td id=\"T_ff720dd0_71b6_11ea_bdff_0242ac1c0002row4_col4\" class=\"data row4 col4\" >0</td>\n",
              "                        <td id=\"T_ff720dd0_71b6_11ea_bdff_0242ac1c0002row4_col5\" class=\"data row4 col5\" >17</td>\n",
              "                        <td id=\"T_ff720dd0_71b6_11ea_bdff_0242ac1c0002row4_col6\" class=\"data row4 col6\" >17</td>\n",
              "            </tr>\n",
              "            <tr>\n",
              "                        <th id=\"T_ff720dd0_71b6_11ea_bdff_0242ac1c0002level0_row5\" class=\"row_heading level0 row5\" >5</th>\n",
              "                        <td id=\"T_ff720dd0_71b6_11ea_bdff_0242ac1c0002row5_col0\" class=\"data row5 col0\" >Karnataka</td>\n",
              "                        <td id=\"T_ff720dd0_71b6_11ea_bdff_0242ac1c0002row5_col1\" class=\"data row5 col1\" >15</td>\n",
              "                        <td id=\"T_ff720dd0_71b6_11ea_bdff_0242ac1c0002row5_col2\" class=\"data row5 col2\" >0</td>\n",
              "                        <td id=\"T_ff720dd0_71b6_11ea_bdff_0242ac1c0002row5_col3\" class=\"data row5 col3\" >1</td>\n",
              "                        <td id=\"T_ff720dd0_71b6_11ea_bdff_0242ac1c0002row5_col4\" class=\"data row5 col4\" >1</td>\n",
              "                        <td id=\"T_ff720dd0_71b6_11ea_bdff_0242ac1c0002row5_col5\" class=\"data row5 col5\" >15</td>\n",
              "                        <td id=\"T_ff720dd0_71b6_11ea_bdff_0242ac1c0002row5_col6\" class=\"data row5 col6\" >13</td>\n",
              "            </tr>\n",
              "            <tr>\n",
              "                        <th id=\"T_ff720dd0_71b6_11ea_bdff_0242ac1c0002level0_row6\" class=\"row_heading level0 row6\" >6</th>\n",
              "                        <td id=\"T_ff720dd0_71b6_11ea_bdff_0242ac1c0002row6_col0\" class=\"data row6 col0\" >Kerala</td>\n",
              "                        <td id=\"T_ff720dd0_71b6_11ea_bdff_0242ac1c0002row6_col1\" class=\"data row6 col1\" >26</td>\n",
              "                        <td id=\"T_ff720dd0_71b6_11ea_bdff_0242ac1c0002row6_col2\" class=\"data row6 col2\" >2</td>\n",
              "                        <td id=\"T_ff720dd0_71b6_11ea_bdff_0242ac1c0002row6_col3\" class=\"data row6 col3\" >3</td>\n",
              "                        <td id=\"T_ff720dd0_71b6_11ea_bdff_0242ac1c0002row6_col4\" class=\"data row6 col4\" >0</td>\n",
              "                        <td id=\"T_ff720dd0_71b6_11ea_bdff_0242ac1c0002row6_col5\" class=\"data row6 col5\" >28</td>\n",
              "                        <td id=\"T_ff720dd0_71b6_11ea_bdff_0242ac1c0002row6_col6\" class=\"data row6 col6\" >25</td>\n",
              "            </tr>\n",
              "            <tr>\n",
              "                        <th id=\"T_ff720dd0_71b6_11ea_bdff_0242ac1c0002level0_row7\" class=\"row_heading level0 row7\" >7</th>\n",
              "                        <td id=\"T_ff720dd0_71b6_11ea_bdff_0242ac1c0002row7_col0\" class=\"data row7 col0\" >Maharashtra</td>\n",
              "                        <td id=\"T_ff720dd0_71b6_11ea_bdff_0242ac1c0002row7_col1\" class=\"data row7 col1\" >49</td>\n",
              "                        <td id=\"T_ff720dd0_71b6_11ea_bdff_0242ac1c0002row7_col2\" class=\"data row7 col2\" >3</td>\n",
              "                        <td id=\"T_ff720dd0_71b6_11ea_bdff_0242ac1c0002row7_col3\" class=\"data row7 col3\" >0</td>\n",
              "                        <td id=\"T_ff720dd0_71b6_11ea_bdff_0242ac1c0002row7_col4\" class=\"data row7 col4\" >1</td>\n",
              "                        <td id=\"T_ff720dd0_71b6_11ea_bdff_0242ac1c0002row7_col5\" class=\"data row7 col5\" >52</td>\n",
              "                        <td id=\"T_ff720dd0_71b6_11ea_bdff_0242ac1c0002row7_col6\" class=\"data row7 col6\" >51</td>\n",
              "            </tr>\n",
              "            <tr>\n",
              "                        <th id=\"T_ff720dd0_71b6_11ea_bdff_0242ac1c0002level0_row8\" class=\"row_heading level0 row8\" >8</th>\n",
              "                        <td id=\"T_ff720dd0_71b6_11ea_bdff_0242ac1c0002row8_col0\" class=\"data row8 col0\" >Odisha</td>\n",
              "                        <td id=\"T_ff720dd0_71b6_11ea_bdff_0242ac1c0002row8_col1\" class=\"data row8 col1\" >2</td>\n",
              "                        <td id=\"T_ff720dd0_71b6_11ea_bdff_0242ac1c0002row8_col2\" class=\"data row8 col2\" >0</td>\n",
              "                        <td id=\"T_ff720dd0_71b6_11ea_bdff_0242ac1c0002row8_col3\" class=\"data row8 col3\" >0</td>\n",
              "                        <td id=\"T_ff720dd0_71b6_11ea_bdff_0242ac1c0002row8_col4\" class=\"data row8 col4\" >0</td>\n",
              "                        <td id=\"T_ff720dd0_71b6_11ea_bdff_0242ac1c0002row8_col5\" class=\"data row8 col5\" >2</td>\n",
              "                        <td id=\"T_ff720dd0_71b6_11ea_bdff_0242ac1c0002row8_col6\" class=\"data row8 col6\" >2</td>\n",
              "            </tr>\n",
              "            <tr>\n",
              "                        <th id=\"T_ff720dd0_71b6_11ea_bdff_0242ac1c0002level0_row9\" class=\"row_heading level0 row9\" >9</th>\n",
              "                        <td id=\"T_ff720dd0_71b6_11ea_bdff_0242ac1c0002row9_col0\" class=\"data row9 col0\" >Pondicherry</td>\n",
              "                        <td id=\"T_ff720dd0_71b6_11ea_bdff_0242ac1c0002row9_col1\" class=\"data row9 col1\" >1</td>\n",
              "                        <td id=\"T_ff720dd0_71b6_11ea_bdff_0242ac1c0002row9_col2\" class=\"data row9 col2\" >0</td>\n",
              "                        <td id=\"T_ff720dd0_71b6_11ea_bdff_0242ac1c0002row9_col3\" class=\"data row9 col3\" >0</td>\n",
              "                        <td id=\"T_ff720dd0_71b6_11ea_bdff_0242ac1c0002row9_col4\" class=\"data row9 col4\" >0</td>\n",
              "                        <td id=\"T_ff720dd0_71b6_11ea_bdff_0242ac1c0002row9_col5\" class=\"data row9 col5\" >1</td>\n",
              "                        <td id=\"T_ff720dd0_71b6_11ea_bdff_0242ac1c0002row9_col6\" class=\"data row9 col6\" >1</td>\n",
              "            </tr>\n",
              "            <tr>\n",
              "                        <th id=\"T_ff720dd0_71b6_11ea_bdff_0242ac1c0002level0_row10\" class=\"row_heading level0 row10\" >10</th>\n",
              "                        <td id=\"T_ff720dd0_71b6_11ea_bdff_0242ac1c0002row10_col0\" class=\"data row10 col0\" >Punjab</td>\n",
              "                        <td id=\"T_ff720dd0_71b6_11ea_bdff_0242ac1c0002row10_col1\" class=\"data row10 col1\" >2</td>\n",
              "                        <td id=\"T_ff720dd0_71b6_11ea_bdff_0242ac1c0002row10_col2\" class=\"data row10 col2\" >0</td>\n",
              "                        <td id=\"T_ff720dd0_71b6_11ea_bdff_0242ac1c0002row10_col3\" class=\"data row10 col3\" >0</td>\n",
              "                        <td id=\"T_ff720dd0_71b6_11ea_bdff_0242ac1c0002row10_col4\" class=\"data row10 col4\" >1</td>\n",
              "                        <td id=\"T_ff720dd0_71b6_11ea_bdff_0242ac1c0002row10_col5\" class=\"data row10 col5\" >2</td>\n",
              "                        <td id=\"T_ff720dd0_71b6_11ea_bdff_0242ac1c0002row10_col6\" class=\"data row10 col6\" >1</td>\n",
              "            </tr>\n",
              "            <tr>\n",
              "                        <th id=\"T_ff720dd0_71b6_11ea_bdff_0242ac1c0002level0_row11\" class=\"row_heading level0 row11\" >11</th>\n",
              "                        <td id=\"T_ff720dd0_71b6_11ea_bdff_0242ac1c0002row11_col0\" class=\"data row11 col0\" >Rajasthan</td>\n",
              "                        <td id=\"T_ff720dd0_71b6_11ea_bdff_0242ac1c0002row11_col1\" class=\"data row11 col1\" >15</td>\n",
              "                        <td id=\"T_ff720dd0_71b6_11ea_bdff_0242ac1c0002row11_col2\" class=\"data row11 col2\" >2</td>\n",
              "                        <td id=\"T_ff720dd0_71b6_11ea_bdff_0242ac1c0002row11_col3\" class=\"data row11 col3\" >3</td>\n",
              "                        <td id=\"T_ff720dd0_71b6_11ea_bdff_0242ac1c0002row11_col4\" class=\"data row11 col4\" >0</td>\n",
              "                        <td id=\"T_ff720dd0_71b6_11ea_bdff_0242ac1c0002row11_col5\" class=\"data row11 col5\" >17</td>\n",
              "                        <td id=\"T_ff720dd0_71b6_11ea_bdff_0242ac1c0002row11_col6\" class=\"data row11 col6\" >14</td>\n",
              "            </tr>\n",
              "            <tr>\n",
              "                        <th id=\"T_ff720dd0_71b6_11ea_bdff_0242ac1c0002level0_row12\" class=\"row_heading level0 row12\" >12</th>\n",
              "                        <td id=\"T_ff720dd0_71b6_11ea_bdff_0242ac1c0002row12_col0\" class=\"data row12 col0\" >Tamil Nadu</td>\n",
              "                        <td id=\"T_ff720dd0_71b6_11ea_bdff_0242ac1c0002row12_col1\" class=\"data row12 col1\" >3</td>\n",
              "                        <td id=\"T_ff720dd0_71b6_11ea_bdff_0242ac1c0002row12_col2\" class=\"data row12 col2\" >0</td>\n",
              "                        <td id=\"T_ff720dd0_71b6_11ea_bdff_0242ac1c0002row12_col3\" class=\"data row12 col3\" >1</td>\n",
              "                        <td id=\"T_ff720dd0_71b6_11ea_bdff_0242ac1c0002row12_col4\" class=\"data row12 col4\" >0</td>\n",
              "                        <td id=\"T_ff720dd0_71b6_11ea_bdff_0242ac1c0002row12_col5\" class=\"data row12 col5\" >3</td>\n",
              "                        <td id=\"T_ff720dd0_71b6_11ea_bdff_0242ac1c0002row12_col6\" class=\"data row12 col6\" >2</td>\n",
              "            </tr>\n",
              "            <tr>\n",
              "                        <th id=\"T_ff720dd0_71b6_11ea_bdff_0242ac1c0002level0_row13\" class=\"row_heading level0 row13\" >13</th>\n",
              "                        <td id=\"T_ff720dd0_71b6_11ea_bdff_0242ac1c0002row13_col0\" class=\"data row13 col0\" >Telengana</td>\n",
              "                        <td id=\"T_ff720dd0_71b6_11ea_bdff_0242ac1c0002row13_col1\" class=\"data row13 col1\" >8</td>\n",
              "                        <td id=\"T_ff720dd0_71b6_11ea_bdff_0242ac1c0002row13_col2\" class=\"data row13 col2\" >9</td>\n",
              "                        <td id=\"T_ff720dd0_71b6_11ea_bdff_0242ac1c0002row13_col3\" class=\"data row13 col3\" >1</td>\n",
              "                        <td id=\"T_ff720dd0_71b6_11ea_bdff_0242ac1c0002row13_col4\" class=\"data row13 col4\" >0</td>\n",
              "                        <td id=\"T_ff720dd0_71b6_11ea_bdff_0242ac1c0002row13_col5\" class=\"data row13 col5\" >17</td>\n",
              "                        <td id=\"T_ff720dd0_71b6_11ea_bdff_0242ac1c0002row13_col6\" class=\"data row13 col6\" >16</td>\n",
              "            </tr>\n",
              "            <tr>\n",
              "                        <th id=\"T_ff720dd0_71b6_11ea_bdff_0242ac1c0002level0_row14\" class=\"row_heading level0 row14\" >14</th>\n",
              "                        <td id=\"T_ff720dd0_71b6_11ea_bdff_0242ac1c0002row14_col0\" class=\"data row14 col0\" >Union Territory of Chandigarh</td>\n",
              "                        <td id=\"T_ff720dd0_71b6_11ea_bdff_0242ac1c0002row14_col1\" class=\"data row14 col1\" >1</td>\n",
              "                        <td id=\"T_ff720dd0_71b6_11ea_bdff_0242ac1c0002row14_col2\" class=\"data row14 col2\" >0</td>\n",
              "                        <td id=\"T_ff720dd0_71b6_11ea_bdff_0242ac1c0002row14_col3\" class=\"data row14 col3\" >0</td>\n",
              "                        <td id=\"T_ff720dd0_71b6_11ea_bdff_0242ac1c0002row14_col4\" class=\"data row14 col4\" >0</td>\n",
              "                        <td id=\"T_ff720dd0_71b6_11ea_bdff_0242ac1c0002row14_col5\" class=\"data row14 col5\" >1</td>\n",
              "                        <td id=\"T_ff720dd0_71b6_11ea_bdff_0242ac1c0002row14_col6\" class=\"data row14 col6\" >1</td>\n",
              "            </tr>\n",
              "            <tr>\n",
              "                        <th id=\"T_ff720dd0_71b6_11ea_bdff_0242ac1c0002level0_row15\" class=\"row_heading level0 row15\" >15</th>\n",
              "                        <td id=\"T_ff720dd0_71b6_11ea_bdff_0242ac1c0002row15_col0\" class=\"data row15 col0\" >Union Territory of Jammu and Kashmir</td>\n",
              "                        <td id=\"T_ff720dd0_71b6_11ea_bdff_0242ac1c0002row15_col1\" class=\"data row15 col1\" >4</td>\n",
              "                        <td id=\"T_ff720dd0_71b6_11ea_bdff_0242ac1c0002row15_col2\" class=\"data row15 col2\" >0</td>\n",
              "                        <td id=\"T_ff720dd0_71b6_11ea_bdff_0242ac1c0002row15_col3\" class=\"data row15 col3\" >0</td>\n",
              "                        <td id=\"T_ff720dd0_71b6_11ea_bdff_0242ac1c0002row15_col4\" class=\"data row15 col4\" >0</td>\n",
              "                        <td id=\"T_ff720dd0_71b6_11ea_bdff_0242ac1c0002row15_col5\" class=\"data row15 col5\" >4</td>\n",
              "                        <td id=\"T_ff720dd0_71b6_11ea_bdff_0242ac1c0002row15_col6\" class=\"data row15 col6\" >4</td>\n",
              "            </tr>\n",
              "            <tr>\n",
              "                        <th id=\"T_ff720dd0_71b6_11ea_bdff_0242ac1c0002level0_row16\" class=\"row_heading level0 row16\" >16</th>\n",
              "                        <td id=\"T_ff720dd0_71b6_11ea_bdff_0242ac1c0002row16_col0\" class=\"data row16 col0\" >Union Territory of Ladakh</td>\n",
              "                        <td id=\"T_ff720dd0_71b6_11ea_bdff_0242ac1c0002row16_col1\" class=\"data row16 col1\" >10</td>\n",
              "                        <td id=\"T_ff720dd0_71b6_11ea_bdff_0242ac1c0002row16_col2\" class=\"data row16 col2\" >0</td>\n",
              "                        <td id=\"T_ff720dd0_71b6_11ea_bdff_0242ac1c0002row16_col3\" class=\"data row16 col3\" >0</td>\n",
              "                        <td id=\"T_ff720dd0_71b6_11ea_bdff_0242ac1c0002row16_col4\" class=\"data row16 col4\" >0</td>\n",
              "                        <td id=\"T_ff720dd0_71b6_11ea_bdff_0242ac1c0002row16_col5\" class=\"data row16 col5\" >10</td>\n",
              "                        <td id=\"T_ff720dd0_71b6_11ea_bdff_0242ac1c0002row16_col6\" class=\"data row16 col6\" >10</td>\n",
              "            </tr>\n",
              "            <tr>\n",
              "                        <th id=\"T_ff720dd0_71b6_11ea_bdff_0242ac1c0002level0_row17\" class=\"row_heading level0 row17\" >17</th>\n",
              "                        <td id=\"T_ff720dd0_71b6_11ea_bdff_0242ac1c0002row17_col0\" class=\"data row17 col0\" >Uttar Pradesh</td>\n",
              "                        <td id=\"T_ff720dd0_71b6_11ea_bdff_0242ac1c0002row17_col1\" class=\"data row17 col1\" >22</td>\n",
              "                        <td id=\"T_ff720dd0_71b6_11ea_bdff_0242ac1c0002row17_col2\" class=\"data row17 col2\" >1</td>\n",
              "                        <td id=\"T_ff720dd0_71b6_11ea_bdff_0242ac1c0002row17_col3\" class=\"data row17 col3\" >9</td>\n",
              "                        <td id=\"T_ff720dd0_71b6_11ea_bdff_0242ac1c0002row17_col4\" class=\"data row17 col4\" >0</td>\n",
              "                        <td id=\"T_ff720dd0_71b6_11ea_bdff_0242ac1c0002row17_col5\" class=\"data row17 col5\" >23</td>\n",
              "                        <td id=\"T_ff720dd0_71b6_11ea_bdff_0242ac1c0002row17_col6\" class=\"data row17 col6\" >14</td>\n",
              "            </tr>\n",
              "            <tr>\n",
              "                        <th id=\"T_ff720dd0_71b6_11ea_bdff_0242ac1c0002level0_row18\" class=\"row_heading level0 row18\" >18</th>\n",
              "                        <td id=\"T_ff720dd0_71b6_11ea_bdff_0242ac1c0002row18_col0\" class=\"data row18 col0\" >Uttarakhand</td>\n",
              "                        <td id=\"T_ff720dd0_71b6_11ea_bdff_0242ac1c0002row18_col1\" class=\"data row18 col1\" >3</td>\n",
              "                        <td id=\"T_ff720dd0_71b6_11ea_bdff_0242ac1c0002row18_col2\" class=\"data row18 col2\" >0</td>\n",
              "                        <td id=\"T_ff720dd0_71b6_11ea_bdff_0242ac1c0002row18_col3\" class=\"data row18 col3\" >0</td>\n",
              "                        <td id=\"T_ff720dd0_71b6_11ea_bdff_0242ac1c0002row18_col4\" class=\"data row18 col4\" >0</td>\n",
              "                        <td id=\"T_ff720dd0_71b6_11ea_bdff_0242ac1c0002row18_col5\" class=\"data row18 col5\" >3</td>\n",
              "                        <td id=\"T_ff720dd0_71b6_11ea_bdff_0242ac1c0002row18_col6\" class=\"data row18 col6\" >3</td>\n",
              "            </tr>\n",
              "            <tr>\n",
              "                        <th id=\"T_ff720dd0_71b6_11ea_bdff_0242ac1c0002level0_row19\" class=\"row_heading level0 row19\" >19</th>\n",
              "                        <td id=\"T_ff720dd0_71b6_11ea_bdff_0242ac1c0002row19_col0\" class=\"data row19 col0\" >West Bengal</td>\n",
              "                        <td id=\"T_ff720dd0_71b6_11ea_bdff_0242ac1c0002row19_col1\" class=\"data row19 col1\" >2</td>\n",
              "                        <td id=\"T_ff720dd0_71b6_11ea_bdff_0242ac1c0002row19_col2\" class=\"data row19 col2\" >0</td>\n",
              "                        <td id=\"T_ff720dd0_71b6_11ea_bdff_0242ac1c0002row19_col3\" class=\"data row19 col3\" >0</td>\n",
              "                        <td id=\"T_ff720dd0_71b6_11ea_bdff_0242ac1c0002row19_col4\" class=\"data row19 col4\" >0</td>\n",
              "                        <td id=\"T_ff720dd0_71b6_11ea_bdff_0242ac1c0002row19_col5\" class=\"data row19 col5\" >2</td>\n",
              "                        <td id=\"T_ff720dd0_71b6_11ea_bdff_0242ac1c0002row19_col6\" class=\"data row19 col6\" >2</td>\n",
              "            </tr>\n",
              "    </tbody></table>"
            ],
            "text/plain": [
              "<pandas.io.formats.style.Styler at 0x7efdadf09a20>"
            ]
          },
          "metadata": {
            "tags": []
          },
          "execution_count": 12
        }
      ]
    },
    {
      "cell_type": "code",
      "metadata": {
        "id": "dwWtdROmNXB-",
        "colab_type": "code",
        "outputId": "6f8f09b8-65bb-4ec7-faec-d34281a54538",
        "colab": {
          "base_uri": "https://localhost:8080/",
          "height": 542
        }
      },
      "source": [
        "colors = ['#1f77b4', '#17becf']\n",
        "\n",
        "indian = df['Total Confirmed cases (Indian National)'].sum()\n",
        "foreign = df['Total Confirmed cases ( Foreign National )'].sum()\n",
        "\n",
        "fig=go.Figure(data=[go.Pie(labels=['Indian','Foreign'],values=[indian,foreign],hole=0.3)])\n",
        "\n",
        "# fig.update_traces(hoverinfo='label+percent',  textinfo='value',textfont_size=20,marker=dict(colors=colors,line=dict(color='#FFFFFF',width=2)))\n",
        "\n",
        "fig.show(renderer=\"colab\")"
      ],
      "execution_count": 13,
      "outputs": [
        {
          "output_type": "display_data",
          "data": {
            "text/html": [
              "<html>\n",
              "<head><meta charset=\"utf-8\" /></head>\n",
              "<body>\n",
              "    <div>\n",
              "            <script src=\"https://cdnjs.cloudflare.com/ajax/libs/mathjax/2.7.5/MathJax.js?config=TeX-AMS-MML_SVG\"></script><script type=\"text/javascript\">if (window.MathJax) {MathJax.Hub.Config({SVG: {font: \"STIX-Web\"}});}</script>\n",
              "                <script type=\"text/javascript\">window.PlotlyConfig = {MathJaxConfig: 'local'};</script>\n",
              "        <script src=\"https://cdn.plot.ly/plotly-latest.min.js\"></script>    \n",
              "            <div id=\"51945233-353e-4a05-a498-fa8849117e09\" class=\"plotly-graph-div\" style=\"height:525px; width:100%;\"></div>\n",
              "            <script type=\"text/javascript\">\n",
              "                \n",
              "                    window.PLOTLYENV=window.PLOTLYENV || {};\n",
              "                    \n",
              "                if (document.getElementById(\"51945233-353e-4a05-a498-fa8849117e09\")) {\n",
              "                    Plotly.newPlot(\n",
              "                        '51945233-353e-4a05-a498-fa8849117e09',\n",
              "                        [{\"hole\": 0.3, \"labels\": [\"Indian\", \"Foreign\"], \"type\": \"pie\", \"values\": [191, 32]}],\n",
              "                        {\"template\": {\"data\": {\"bar\": [{\"error_x\": {\"color\": \"#2a3f5f\"}, \"error_y\": {\"color\": \"#2a3f5f\"}, \"marker\": {\"line\": {\"color\": \"#E5ECF6\", \"width\": 0.5}}, \"type\": \"bar\"}], \"barpolar\": [{\"marker\": {\"line\": {\"color\": \"#E5ECF6\", \"width\": 0.5}}, \"type\": \"barpolar\"}], \"carpet\": [{\"aaxis\": {\"endlinecolor\": \"#2a3f5f\", \"gridcolor\": \"white\", \"linecolor\": \"white\", \"minorgridcolor\": \"white\", \"startlinecolor\": \"#2a3f5f\"}, \"baxis\": {\"endlinecolor\": \"#2a3f5f\", \"gridcolor\": \"white\", \"linecolor\": \"white\", \"minorgridcolor\": \"white\", \"startlinecolor\": \"#2a3f5f\"}, \"type\": \"carpet\"}], \"choropleth\": [{\"colorbar\": {\"outlinewidth\": 0, \"ticks\": \"\"}, \"type\": \"choropleth\"}], \"contour\": [{\"colorbar\": {\"outlinewidth\": 0, \"ticks\": \"\"}, \"colorscale\": [[0.0, \"#0d0887\"], [0.1111111111111111, \"#46039f\"], [0.2222222222222222, \"#7201a8\"], [0.3333333333333333, \"#9c179e\"], [0.4444444444444444, \"#bd3786\"], [0.5555555555555556, \"#d8576b\"], [0.6666666666666666, \"#ed7953\"], [0.7777777777777778, \"#fb9f3a\"], [0.8888888888888888, \"#fdca26\"], [1.0, \"#f0f921\"]], \"type\": \"contour\"}], \"contourcarpet\": [{\"colorbar\": {\"outlinewidth\": 0, \"ticks\": \"\"}, \"type\": \"contourcarpet\"}], \"heatmap\": [{\"colorbar\": {\"outlinewidth\": 0, \"ticks\": \"\"}, \"colorscale\": [[0.0, \"#0d0887\"], [0.1111111111111111, \"#46039f\"], [0.2222222222222222, \"#7201a8\"], [0.3333333333333333, \"#9c179e\"], [0.4444444444444444, \"#bd3786\"], [0.5555555555555556, \"#d8576b\"], [0.6666666666666666, \"#ed7953\"], [0.7777777777777778, \"#fb9f3a\"], [0.8888888888888888, \"#fdca26\"], [1.0, \"#f0f921\"]], \"type\": \"heatmap\"}], \"heatmapgl\": [{\"colorbar\": {\"outlinewidth\": 0, \"ticks\": \"\"}, \"colorscale\": [[0.0, \"#0d0887\"], [0.1111111111111111, \"#46039f\"], [0.2222222222222222, \"#7201a8\"], [0.3333333333333333, \"#9c179e\"], [0.4444444444444444, \"#bd3786\"], [0.5555555555555556, \"#d8576b\"], [0.6666666666666666, \"#ed7953\"], [0.7777777777777778, \"#fb9f3a\"], [0.8888888888888888, \"#fdca26\"], [1.0, \"#f0f921\"]], \"type\": \"heatmapgl\"}], \"histogram\": [{\"marker\": {\"colorbar\": {\"outlinewidth\": 0, \"ticks\": \"\"}}, \"type\": \"histogram\"}], \"histogram2d\": [{\"colorbar\": {\"outlinewidth\": 0, \"ticks\": \"\"}, \"colorscale\": [[0.0, \"#0d0887\"], [0.1111111111111111, \"#46039f\"], [0.2222222222222222, \"#7201a8\"], [0.3333333333333333, \"#9c179e\"], [0.4444444444444444, \"#bd3786\"], [0.5555555555555556, \"#d8576b\"], [0.6666666666666666, \"#ed7953\"], [0.7777777777777778, \"#fb9f3a\"], [0.8888888888888888, \"#fdca26\"], [1.0, \"#f0f921\"]], \"type\": \"histogram2d\"}], \"histogram2dcontour\": [{\"colorbar\": {\"outlinewidth\": 0, \"ticks\": \"\"}, \"colorscale\": [[0.0, \"#0d0887\"], [0.1111111111111111, \"#46039f\"], [0.2222222222222222, \"#7201a8\"], [0.3333333333333333, \"#9c179e\"], [0.4444444444444444, \"#bd3786\"], [0.5555555555555556, \"#d8576b\"], [0.6666666666666666, \"#ed7953\"], [0.7777777777777778, \"#fb9f3a\"], [0.8888888888888888, \"#fdca26\"], [1.0, \"#f0f921\"]], \"type\": \"histogram2dcontour\"}], \"mesh3d\": [{\"colorbar\": {\"outlinewidth\": 0, \"ticks\": \"\"}, \"type\": \"mesh3d\"}], \"parcoords\": [{\"line\": {\"colorbar\": {\"outlinewidth\": 0, \"ticks\": \"\"}}, \"type\": \"parcoords\"}], \"pie\": [{\"automargin\": true, \"type\": \"pie\"}], \"scatter\": [{\"marker\": {\"colorbar\": {\"outlinewidth\": 0, \"ticks\": \"\"}}, \"type\": \"scatter\"}], \"scatter3d\": [{\"line\": {\"colorbar\": {\"outlinewidth\": 0, \"ticks\": \"\"}}, \"marker\": {\"colorbar\": {\"outlinewidth\": 0, \"ticks\": \"\"}}, \"type\": \"scatter3d\"}], \"scattercarpet\": [{\"marker\": {\"colorbar\": {\"outlinewidth\": 0, \"ticks\": \"\"}}, \"type\": \"scattercarpet\"}], \"scattergeo\": [{\"marker\": {\"colorbar\": {\"outlinewidth\": 0, \"ticks\": \"\"}}, \"type\": \"scattergeo\"}], \"scattergl\": [{\"marker\": {\"colorbar\": {\"outlinewidth\": 0, \"ticks\": \"\"}}, \"type\": \"scattergl\"}], \"scattermapbox\": [{\"marker\": {\"colorbar\": {\"outlinewidth\": 0, \"ticks\": \"\"}}, \"type\": \"scattermapbox\"}], \"scatterpolar\": [{\"marker\": {\"colorbar\": {\"outlinewidth\": 0, \"ticks\": \"\"}}, \"type\": \"scatterpolar\"}], \"scatterpolargl\": [{\"marker\": {\"colorbar\": {\"outlinewidth\": 0, \"ticks\": \"\"}}, \"type\": \"scatterpolargl\"}], \"scatterternary\": [{\"marker\": {\"colorbar\": {\"outlinewidth\": 0, \"ticks\": \"\"}}, \"type\": \"scatterternary\"}], \"surface\": [{\"colorbar\": {\"outlinewidth\": 0, \"ticks\": \"\"}, \"colorscale\": [[0.0, \"#0d0887\"], [0.1111111111111111, \"#46039f\"], [0.2222222222222222, \"#7201a8\"], [0.3333333333333333, \"#9c179e\"], [0.4444444444444444, \"#bd3786\"], [0.5555555555555556, \"#d8576b\"], [0.6666666666666666, \"#ed7953\"], [0.7777777777777778, \"#fb9f3a\"], [0.8888888888888888, \"#fdca26\"], [1.0, \"#f0f921\"]], \"type\": \"surface\"}], \"table\": [{\"cells\": {\"fill\": {\"color\": \"#EBF0F8\"}, \"line\": {\"color\": \"white\"}}, \"header\": {\"fill\": {\"color\": \"#C8D4E3\"}, \"line\": {\"color\": \"white\"}}, \"type\": \"table\"}]}, \"layout\": {\"annotationdefaults\": {\"arrowcolor\": \"#2a3f5f\", \"arrowhead\": 0, \"arrowwidth\": 1}, \"coloraxis\": {\"colorbar\": {\"outlinewidth\": 0, \"ticks\": \"\"}}, \"colorscale\": {\"diverging\": [[0, \"#8e0152\"], [0.1, \"#c51b7d\"], [0.2, \"#de77ae\"], [0.3, \"#f1b6da\"], [0.4, \"#fde0ef\"], [0.5, \"#f7f7f7\"], [0.6, \"#e6f5d0\"], [0.7, \"#b8e186\"], [0.8, \"#7fbc41\"], [0.9, \"#4d9221\"], [1, \"#276419\"]], \"sequential\": [[0.0, \"#0d0887\"], [0.1111111111111111, \"#46039f\"], [0.2222222222222222, \"#7201a8\"], [0.3333333333333333, \"#9c179e\"], [0.4444444444444444, \"#bd3786\"], [0.5555555555555556, \"#d8576b\"], [0.6666666666666666, \"#ed7953\"], [0.7777777777777778, \"#fb9f3a\"], [0.8888888888888888, \"#fdca26\"], [1.0, \"#f0f921\"]], \"sequentialminus\": [[0.0, \"#0d0887\"], [0.1111111111111111, \"#46039f\"], [0.2222222222222222, \"#7201a8\"], [0.3333333333333333, \"#9c179e\"], [0.4444444444444444, \"#bd3786\"], [0.5555555555555556, \"#d8576b\"], [0.6666666666666666, \"#ed7953\"], [0.7777777777777778, \"#fb9f3a\"], [0.8888888888888888, \"#fdca26\"], [1.0, \"#f0f921\"]]}, \"colorway\": [\"#636efa\", \"#EF553B\", \"#00cc96\", \"#ab63fa\", \"#FFA15A\", \"#19d3f3\", \"#FF6692\", \"#B6E880\", \"#FF97FF\", \"#FECB52\"], \"font\": {\"color\": \"#2a3f5f\"}, \"geo\": {\"bgcolor\": \"white\", \"lakecolor\": \"white\", \"landcolor\": \"#E5ECF6\", \"showlakes\": true, \"showland\": true, \"subunitcolor\": \"white\"}, \"hoverlabel\": {\"align\": \"left\"}, \"hovermode\": \"closest\", \"mapbox\": {\"style\": \"light\"}, \"paper_bgcolor\": \"white\", \"plot_bgcolor\": \"#E5ECF6\", \"polar\": {\"angularaxis\": {\"gridcolor\": \"white\", \"linecolor\": \"white\", \"ticks\": \"\"}, \"bgcolor\": \"#E5ECF6\", \"radialaxis\": {\"gridcolor\": \"white\", \"linecolor\": \"white\", \"ticks\": \"\"}}, \"scene\": {\"xaxis\": {\"backgroundcolor\": \"#E5ECF6\", \"gridcolor\": \"white\", \"gridwidth\": 2, \"linecolor\": \"white\", \"showbackground\": true, \"ticks\": \"\", \"zerolinecolor\": \"white\"}, \"yaxis\": {\"backgroundcolor\": \"#E5ECF6\", \"gridcolor\": \"white\", \"gridwidth\": 2, \"linecolor\": \"white\", \"showbackground\": true, \"ticks\": \"\", \"zerolinecolor\": \"white\"}, \"zaxis\": {\"backgroundcolor\": \"#E5ECF6\", \"gridcolor\": \"white\", \"gridwidth\": 2, \"linecolor\": \"white\", \"showbackground\": true, \"ticks\": \"\", \"zerolinecolor\": \"white\"}}, \"shapedefaults\": {\"line\": {\"color\": \"#2a3f5f\"}}, \"ternary\": {\"aaxis\": {\"gridcolor\": \"white\", \"linecolor\": \"white\", \"ticks\": \"\"}, \"baxis\": {\"gridcolor\": \"white\", \"linecolor\": \"white\", \"ticks\": \"\"}, \"bgcolor\": \"#E5ECF6\", \"caxis\": {\"gridcolor\": \"white\", \"linecolor\": \"white\", \"ticks\": \"\"}}, \"title\": {\"x\": 0.05}, \"xaxis\": {\"automargin\": true, \"gridcolor\": \"white\", \"linecolor\": \"white\", \"ticks\": \"\", \"title\": {\"standoff\": 15}, \"zerolinecolor\": \"white\", \"zerolinewidth\": 2}, \"yaxis\": {\"automargin\": true, \"gridcolor\": \"white\", \"linecolor\": \"white\", \"ticks\": \"\", \"title\": {\"standoff\": 15}, \"zerolinecolor\": \"white\", \"zerolinewidth\": 2}}}},\n",
              "                        {\"responsive\": true}\n",
              "                    ).then(function(){\n",
              "                            \n",
              "var gd = document.getElementById('51945233-353e-4a05-a498-fa8849117e09');\n",
              "var x = new MutationObserver(function (mutations, observer) {{\n",
              "        var display = window.getComputedStyle(gd).display;\n",
              "        if (!display || display === 'none') {{\n",
              "            console.log([gd, 'removed!']);\n",
              "            Plotly.purge(gd);\n",
              "            observer.disconnect();\n",
              "        }}\n",
              "}});\n",
              "\n",
              "// Listen for the removal of the full notebook cells\n",
              "var notebookContainer = gd.closest('#notebook-container');\n",
              "if (notebookContainer) {{\n",
              "    x.observe(notebookContainer, {childList: true});\n",
              "}}\n",
              "\n",
              "// Listen for the clearing of the current output cell\n",
              "var outputEl = gd.closest('.output');\n",
              "if (outputEl) {{\n",
              "    x.observe(outputEl, {childList: true});\n",
              "}}\n",
              "\n",
              "                        })\n",
              "                };\n",
              "                \n",
              "            </script>\n",
              "        </div>\n",
              "</body>\n",
              "</html>"
            ]
          },
          "metadata": {
            "tags": []
          }
        }
      ]
    },
    {
      "cell_type": "markdown",
      "metadata": {
        "id": "JKLstL9TVSaZ",
        "colab_type": "text"
      },
      "source": [
        "# States Wise Data"
      ]
    },
    {
      "cell_type": "code",
      "metadata": {
        "id": "w1PX4HONO5cC",
        "colab_type": "code",
        "outputId": "fd57ad74-4986-4bcb-8370-848de189ae42",
        "colab": {
          "base_uri": "https://localhost:8080/",
          "height": 481
        }
      },
      "source": [
        "x=df.groupby('Name of State / UT')['ActiveCases'].sum().sort_values(ascending=False).to_frame()\n",
        "x.style.background_gradient(cmap='Reds')"
      ],
      "execution_count": 14,
      "outputs": [
        {
          "output_type": "execute_result",
          "data": {
            "text/html": [
              "<style  type=\"text/css\" >\n",
              "    #T_14aa68b4_71b7_11ea_bdff_0242ac1c0002row0_col0 {\n",
              "            background-color:  #67000d;\n",
              "            color:  #f1f1f1;\n",
              "        }    #T_14aa68b4_71b7_11ea_bdff_0242ac1c0002row1_col0 {\n",
              "            background-color:  #fb7151;\n",
              "            color:  #000000;\n",
              "        }    #T_14aa68b4_71b7_11ea_bdff_0242ac1c0002row2_col0 {\n",
              "            background-color:  #fca588;\n",
              "            color:  #000000;\n",
              "        }    #T_14aa68b4_71b7_11ea_bdff_0242ac1c0002row3_col0 {\n",
              "            background-color:  #fcab8f;\n",
              "            color:  #000000;\n",
              "        }    #T_14aa68b4_71b7_11ea_bdff_0242ac1c0002row4_col0 {\n",
              "            background-color:  #fcb89e;\n",
              "            color:  #000000;\n",
              "        }    #T_14aa68b4_71b7_11ea_bdff_0242ac1c0002row5_col0 {\n",
              "            background-color:  #fcb89e;\n",
              "            color:  #000000;\n",
              "        }    #T_14aa68b4_71b7_11ea_bdff_0242ac1c0002row6_col0 {\n",
              "            background-color:  #fcbea5;\n",
              "            color:  #000000;\n",
              "        }    #T_14aa68b4_71b7_11ea_bdff_0242ac1c0002row7_col0 {\n",
              "            background-color:  #fdcab5;\n",
              "            color:  #000000;\n",
              "        }    #T_14aa68b4_71b7_11ea_bdff_0242ac1c0002row8_col0 {\n",
              "            background-color:  #fdd0bc;\n",
              "            color:  #000000;\n",
              "        }    #T_14aa68b4_71b7_11ea_bdff_0242ac1c0002row9_col0 {\n",
              "            background-color:  #fee8dd;\n",
              "            color:  #000000;\n",
              "        }    #T_14aa68b4_71b7_11ea_bdff_0242ac1c0002row10_col0 {\n",
              "            background-color:  #ffebe2;\n",
              "            color:  #000000;\n",
              "        }    #T_14aa68b4_71b7_11ea_bdff_0242ac1c0002row11_col0 {\n",
              "            background-color:  #ffeee7;\n",
              "            color:  #000000;\n",
              "        }    #T_14aa68b4_71b7_11ea_bdff_0242ac1c0002row12_col0 {\n",
              "            background-color:  #ffeee7;\n",
              "            color:  #000000;\n",
              "        }    #T_14aa68b4_71b7_11ea_bdff_0242ac1c0002row13_col0 {\n",
              "            background-color:  #fff2eb;\n",
              "            color:  #000000;\n",
              "        }    #T_14aa68b4_71b7_11ea_bdff_0242ac1c0002row14_col0 {\n",
              "            background-color:  #fff2eb;\n",
              "            color:  #000000;\n",
              "        }    #T_14aa68b4_71b7_11ea_bdff_0242ac1c0002row15_col0 {\n",
              "            background-color:  #fff2eb;\n",
              "            color:  #000000;\n",
              "        }    #T_14aa68b4_71b7_11ea_bdff_0242ac1c0002row16_col0 {\n",
              "            background-color:  #fff5f0;\n",
              "            color:  #000000;\n",
              "        }    #T_14aa68b4_71b7_11ea_bdff_0242ac1c0002row17_col0 {\n",
              "            background-color:  #fff5f0;\n",
              "            color:  #000000;\n",
              "        }    #T_14aa68b4_71b7_11ea_bdff_0242ac1c0002row18_col0 {\n",
              "            background-color:  #fff5f0;\n",
              "            color:  #000000;\n",
              "        }    #T_14aa68b4_71b7_11ea_bdff_0242ac1c0002row19_col0 {\n",
              "            background-color:  #fff5f0;\n",
              "            color:  #000000;\n",
              "        }</style><table id=\"T_14aa68b4_71b7_11ea_bdff_0242ac1c0002\" ><thead>    <tr>        <th class=\"blank level0\" ></th>        <th class=\"col_heading level0 col0\" >ActiveCases</th>    </tr>    <tr>        <th class=\"index_name level0\" >Name of State / UT</th>        <th class=\"blank\" ></th>    </tr></thead><tbody>\n",
              "                <tr>\n",
              "                        <th id=\"T_14aa68b4_71b7_11ea_bdff_0242ac1c0002level0_row0\" class=\"row_heading level0 row0\" >Maharashtra</th>\n",
              "                        <td id=\"T_14aa68b4_71b7_11ea_bdff_0242ac1c0002row0_col0\" class=\"data row0 col0\" >51</td>\n",
              "            </tr>\n",
              "            <tr>\n",
              "                        <th id=\"T_14aa68b4_71b7_11ea_bdff_0242ac1c0002level0_row1\" class=\"row_heading level0 row1\" >Kerala</th>\n",
              "                        <td id=\"T_14aa68b4_71b7_11ea_bdff_0242ac1c0002row1_col0\" class=\"data row1 col0\" >25</td>\n",
              "            </tr>\n",
              "            <tr>\n",
              "                        <th id=\"T_14aa68b4_71b7_11ea_bdff_0242ac1c0002level0_row2\" class=\"row_heading level0 row2\" >Haryana</th>\n",
              "                        <td id=\"T_14aa68b4_71b7_11ea_bdff_0242ac1c0002row2_col0\" class=\"data row2 col0\" >17</td>\n",
              "            </tr>\n",
              "            <tr>\n",
              "                        <th id=\"T_14aa68b4_71b7_11ea_bdff_0242ac1c0002level0_row3\" class=\"row_heading level0 row3\" >Telengana</th>\n",
              "                        <td id=\"T_14aa68b4_71b7_11ea_bdff_0242ac1c0002row3_col0\" class=\"data row3 col0\" >16</td>\n",
              "            </tr>\n",
              "            <tr>\n",
              "                        <th id=\"T_14aa68b4_71b7_11ea_bdff_0242ac1c0002level0_row4\" class=\"row_heading level0 row4\" >Uttar Pradesh</th>\n",
              "                        <td id=\"T_14aa68b4_71b7_11ea_bdff_0242ac1c0002row4_col0\" class=\"data row4 col0\" >14</td>\n",
              "            </tr>\n",
              "            <tr>\n",
              "                        <th id=\"T_14aa68b4_71b7_11ea_bdff_0242ac1c0002level0_row5\" class=\"row_heading level0 row5\" >Rajasthan</th>\n",
              "                        <td id=\"T_14aa68b4_71b7_11ea_bdff_0242ac1c0002row5_col0\" class=\"data row5 col0\" >14</td>\n",
              "            </tr>\n",
              "            <tr>\n",
              "                        <th id=\"T_14aa68b4_71b7_11ea_bdff_0242ac1c0002level0_row6\" class=\"row_heading level0 row6\" >Karnataka</th>\n",
              "                        <td id=\"T_14aa68b4_71b7_11ea_bdff_0242ac1c0002row6_col0\" class=\"data row6 col0\" >13</td>\n",
              "            </tr>\n",
              "            <tr>\n",
              "                        <th id=\"T_14aa68b4_71b7_11ea_bdff_0242ac1c0002level0_row7\" class=\"row_heading level0 row7\" >Delhi</th>\n",
              "                        <td id=\"T_14aa68b4_71b7_11ea_bdff_0242ac1c0002row7_col0\" class=\"data row7 col0\" >11</td>\n",
              "            </tr>\n",
              "            <tr>\n",
              "                        <th id=\"T_14aa68b4_71b7_11ea_bdff_0242ac1c0002level0_row8\" class=\"row_heading level0 row8\" >Union Territory of Ladakh</th>\n",
              "                        <td id=\"T_14aa68b4_71b7_11ea_bdff_0242ac1c0002row8_col0\" class=\"data row8 col0\" >10</td>\n",
              "            </tr>\n",
              "            <tr>\n",
              "                        <th id=\"T_14aa68b4_71b7_11ea_bdff_0242ac1c0002level0_row9\" class=\"row_heading level0 row9\" >Gujarat</th>\n",
              "                        <td id=\"T_14aa68b4_71b7_11ea_bdff_0242ac1c0002row9_col0\" class=\"data row9 col0\" >5</td>\n",
              "            </tr>\n",
              "            <tr>\n",
              "                        <th id=\"T_14aa68b4_71b7_11ea_bdff_0242ac1c0002level0_row10\" class=\"row_heading level0 row10\" >Union Territory of Jammu and Kashmir</th>\n",
              "                        <td id=\"T_14aa68b4_71b7_11ea_bdff_0242ac1c0002row10_col0\" class=\"data row10 col0\" >4</td>\n",
              "            </tr>\n",
              "            <tr>\n",
              "                        <th id=\"T_14aa68b4_71b7_11ea_bdff_0242ac1c0002level0_row11\" class=\"row_heading level0 row11\" >Andhra Pradesh</th>\n",
              "                        <td id=\"T_14aa68b4_71b7_11ea_bdff_0242ac1c0002row11_col0\" class=\"data row11 col0\" >3</td>\n",
              "            </tr>\n",
              "            <tr>\n",
              "                        <th id=\"T_14aa68b4_71b7_11ea_bdff_0242ac1c0002level0_row12\" class=\"row_heading level0 row12\" >Uttarakhand</th>\n",
              "                        <td id=\"T_14aa68b4_71b7_11ea_bdff_0242ac1c0002row12_col0\" class=\"data row12 col0\" >3</td>\n",
              "            </tr>\n",
              "            <tr>\n",
              "                        <th id=\"T_14aa68b4_71b7_11ea_bdff_0242ac1c0002level0_row13\" class=\"row_heading level0 row13\" >West Bengal</th>\n",
              "                        <td id=\"T_14aa68b4_71b7_11ea_bdff_0242ac1c0002row13_col0\" class=\"data row13 col0\" >2</td>\n",
              "            </tr>\n",
              "            <tr>\n",
              "                        <th id=\"T_14aa68b4_71b7_11ea_bdff_0242ac1c0002level0_row14\" class=\"row_heading level0 row14\" >Odisha</th>\n",
              "                        <td id=\"T_14aa68b4_71b7_11ea_bdff_0242ac1c0002row14_col0\" class=\"data row14 col0\" >2</td>\n",
              "            </tr>\n",
              "            <tr>\n",
              "                        <th id=\"T_14aa68b4_71b7_11ea_bdff_0242ac1c0002level0_row15\" class=\"row_heading level0 row15\" >Tamil Nadu</th>\n",
              "                        <td id=\"T_14aa68b4_71b7_11ea_bdff_0242ac1c0002row15_col0\" class=\"data row15 col0\" >2</td>\n",
              "            </tr>\n",
              "            <tr>\n",
              "                        <th id=\"T_14aa68b4_71b7_11ea_bdff_0242ac1c0002level0_row16\" class=\"row_heading level0 row16\" >Punjab</th>\n",
              "                        <td id=\"T_14aa68b4_71b7_11ea_bdff_0242ac1c0002row16_col0\" class=\"data row16 col0\" >1</td>\n",
              "            </tr>\n",
              "            <tr>\n",
              "                        <th id=\"T_14aa68b4_71b7_11ea_bdff_0242ac1c0002level0_row17\" class=\"row_heading level0 row17\" >Union Territory of Chandigarh</th>\n",
              "                        <td id=\"T_14aa68b4_71b7_11ea_bdff_0242ac1c0002row17_col0\" class=\"data row17 col0\" >1</td>\n",
              "            </tr>\n",
              "            <tr>\n",
              "                        <th id=\"T_14aa68b4_71b7_11ea_bdff_0242ac1c0002level0_row18\" class=\"row_heading level0 row18\" >Chattisgarh</th>\n",
              "                        <td id=\"T_14aa68b4_71b7_11ea_bdff_0242ac1c0002row18_col0\" class=\"data row18 col0\" >1</td>\n",
              "            </tr>\n",
              "            <tr>\n",
              "                        <th id=\"T_14aa68b4_71b7_11ea_bdff_0242ac1c0002level0_row19\" class=\"row_heading level0 row19\" >Pondicherry</th>\n",
              "                        <td id=\"T_14aa68b4_71b7_11ea_bdff_0242ac1c0002row19_col0\" class=\"data row19 col0\" >1</td>\n",
              "            </tr>\n",
              "    </tbody></table>"
            ],
            "text/plain": [
              "<pandas.io.formats.style.Styler at 0x7efdadd7a860>"
            ]
          },
          "metadata": {
            "tags": []
          },
          "execution_count": 14
        }
      ]
    },
    {
      "cell_type": "markdown",
      "metadata": {
        "id": "rOZ7qkLbVNfW",
        "colab_type": "text"
      },
      "source": [
        "#Total Active Cases"
      ]
    },
    {
      "cell_type": "code",
      "metadata": {
        "id": "8ZEc2DOgR2oR",
        "colab_type": "code",
        "outputId": "eae77a31-c612-411a-d683-2d552980b3ef",
        "colab": {
          "base_uri": "https://localhost:8080/",
          "height": 717
        }
      },
      "source": [
        "fig=px.bar(df.sort_values('ActiveCases',ascending=False),\n",
        "           x='ActiveCases',y='Name of State / UT',\n",
        "           text='ActiveCases',orientation='h',\n",
        "           width=1000,height=700,range_x=[0,max(df['ActiveCases'])])\n",
        "fig.update_traces(marker_color='#46cdcf',opacity=0.8)\n",
        "\n",
        "\n",
        "\n",
        "fig.show(renderer=\"colab\")"
      ],
      "execution_count": 15,
      "outputs": [
        {
          "output_type": "display_data",
          "data": {
            "text/html": [
              "<html>\n",
              "<head><meta charset=\"utf-8\" /></head>\n",
              "<body>\n",
              "    <div>\n",
              "            <script src=\"https://cdnjs.cloudflare.com/ajax/libs/mathjax/2.7.5/MathJax.js?config=TeX-AMS-MML_SVG\"></script><script type=\"text/javascript\">if (window.MathJax) {MathJax.Hub.Config({SVG: {font: \"STIX-Web\"}});}</script>\n",
              "                <script type=\"text/javascript\">window.PlotlyConfig = {MathJaxConfig: 'local'};</script>\n",
              "        <script src=\"https://cdn.plot.ly/plotly-latest.min.js\"></script>    \n",
              "            <div id=\"d076222e-f592-417b-926d-833f63c4b8b8\" class=\"plotly-graph-div\" style=\"height:700px; width:1000px;\"></div>\n",
              "            <script type=\"text/javascript\">\n",
              "                \n",
              "                    window.PLOTLYENV=window.PLOTLYENV || {};\n",
              "                    \n",
              "                if (document.getElementById(\"d076222e-f592-417b-926d-833f63c4b8b8\")) {\n",
              "                    Plotly.newPlot(\n",
              "                        'd076222e-f592-417b-926d-833f63c4b8b8',\n",
              "                        [{\"alignmentgroup\": \"True\", \"hoverlabel\": {\"namelength\": 0}, \"hovertemplate\": \"ActiveCases=%{text}<br>Name of State / UT=%{y}\", \"legendgroup\": \"\", \"marker\": {\"color\": \"#46cdcf\"}, \"name\": \"\", \"offsetgroup\": \"\", \"opacity\": 0.8, \"orientation\": \"h\", \"showlegend\": false, \"text\": [51.0, 25.0, 17.0, 16.0, 14.0, 14.0, 13.0, 11.0, 10.0, 5.0, 4.0, 3.0, 3.0, 2.0, 2.0, 2.0, 1.0, 1.0, 1.0, 1.0], \"textposition\": \"auto\", \"type\": \"bar\", \"x\": [51, 25, 17, 16, 14, 14, 13, 11, 10, 5, 4, 3, 3, 2, 2, 2, 1, 1, 1, 1], \"xaxis\": \"x\", \"y\": [\"Maharashtra\", \"Kerala\", \"Haryana\", \"Telengana\", \"Uttar Pradesh\", \"Rajasthan\", \"Karnataka\", \"Delhi\", \"Union Territory of Ladakh\", \"Gujarat\", \"Union Territory of Jammu and Kashmir\", \"Andhra Pradesh\", \"Uttarakhand\", \"West Bengal\", \"Tamil Nadu\", \"Odisha\", \"Union Territory of Chandigarh\", \"Chattisgarh\", \"Pondicherry\", \"Punjab\"], \"yaxis\": \"y\"}],\n",
              "                        {\"barmode\": \"relative\", \"height\": 700, \"legend\": {\"tracegroupgap\": 0}, \"margin\": {\"t\": 60}, \"template\": {\"data\": {\"bar\": [{\"error_x\": {\"color\": \"#2a3f5f\"}, \"error_y\": {\"color\": \"#2a3f5f\"}, \"marker\": {\"line\": {\"color\": \"#E5ECF6\", \"width\": 0.5}}, \"type\": \"bar\"}], \"barpolar\": [{\"marker\": {\"line\": {\"color\": \"#E5ECF6\", \"width\": 0.5}}, \"type\": \"barpolar\"}], \"carpet\": [{\"aaxis\": {\"endlinecolor\": \"#2a3f5f\", \"gridcolor\": \"white\", \"linecolor\": \"white\", \"minorgridcolor\": \"white\", \"startlinecolor\": \"#2a3f5f\"}, \"baxis\": {\"endlinecolor\": \"#2a3f5f\", \"gridcolor\": \"white\", \"linecolor\": \"white\", \"minorgridcolor\": \"white\", \"startlinecolor\": \"#2a3f5f\"}, \"type\": \"carpet\"}], \"choropleth\": [{\"colorbar\": {\"outlinewidth\": 0, \"ticks\": \"\"}, \"type\": \"choropleth\"}], \"contour\": [{\"colorbar\": {\"outlinewidth\": 0, \"ticks\": \"\"}, \"colorscale\": [[0.0, \"#0d0887\"], [0.1111111111111111, \"#46039f\"], [0.2222222222222222, \"#7201a8\"], [0.3333333333333333, \"#9c179e\"], [0.4444444444444444, \"#bd3786\"], [0.5555555555555556, \"#d8576b\"], [0.6666666666666666, \"#ed7953\"], [0.7777777777777778, \"#fb9f3a\"], [0.8888888888888888, \"#fdca26\"], [1.0, \"#f0f921\"]], \"type\": \"contour\"}], \"contourcarpet\": [{\"colorbar\": {\"outlinewidth\": 0, \"ticks\": \"\"}, \"type\": \"contourcarpet\"}], \"heatmap\": [{\"colorbar\": {\"outlinewidth\": 0, \"ticks\": \"\"}, \"colorscale\": [[0.0, \"#0d0887\"], [0.1111111111111111, \"#46039f\"], [0.2222222222222222, \"#7201a8\"], [0.3333333333333333, \"#9c179e\"], [0.4444444444444444, \"#bd3786\"], [0.5555555555555556, \"#d8576b\"], [0.6666666666666666, \"#ed7953\"], [0.7777777777777778, \"#fb9f3a\"], [0.8888888888888888, \"#fdca26\"], [1.0, \"#f0f921\"]], \"type\": \"heatmap\"}], \"heatmapgl\": [{\"colorbar\": {\"outlinewidth\": 0, \"ticks\": \"\"}, \"colorscale\": [[0.0, \"#0d0887\"], [0.1111111111111111, \"#46039f\"], [0.2222222222222222, \"#7201a8\"], [0.3333333333333333, \"#9c179e\"], [0.4444444444444444, \"#bd3786\"], [0.5555555555555556, \"#d8576b\"], [0.6666666666666666, \"#ed7953\"], [0.7777777777777778, \"#fb9f3a\"], [0.8888888888888888, \"#fdca26\"], [1.0, \"#f0f921\"]], \"type\": \"heatmapgl\"}], \"histogram\": [{\"marker\": {\"colorbar\": {\"outlinewidth\": 0, \"ticks\": \"\"}}, \"type\": \"histogram\"}], \"histogram2d\": [{\"colorbar\": {\"outlinewidth\": 0, \"ticks\": \"\"}, \"colorscale\": [[0.0, \"#0d0887\"], [0.1111111111111111, \"#46039f\"], [0.2222222222222222, \"#7201a8\"], [0.3333333333333333, \"#9c179e\"], [0.4444444444444444, \"#bd3786\"], [0.5555555555555556, \"#d8576b\"], [0.6666666666666666, \"#ed7953\"], [0.7777777777777778, \"#fb9f3a\"], [0.8888888888888888, \"#fdca26\"], [1.0, \"#f0f921\"]], \"type\": \"histogram2d\"}], \"histogram2dcontour\": [{\"colorbar\": {\"outlinewidth\": 0, \"ticks\": \"\"}, \"colorscale\": [[0.0, \"#0d0887\"], [0.1111111111111111, \"#46039f\"], [0.2222222222222222, \"#7201a8\"], [0.3333333333333333, \"#9c179e\"], [0.4444444444444444, \"#bd3786\"], [0.5555555555555556, \"#d8576b\"], [0.6666666666666666, \"#ed7953\"], [0.7777777777777778, \"#fb9f3a\"], [0.8888888888888888, \"#fdca26\"], [1.0, \"#f0f921\"]], \"type\": \"histogram2dcontour\"}], \"mesh3d\": [{\"colorbar\": {\"outlinewidth\": 0, \"ticks\": \"\"}, \"type\": \"mesh3d\"}], \"parcoords\": [{\"line\": {\"colorbar\": {\"outlinewidth\": 0, \"ticks\": \"\"}}, \"type\": \"parcoords\"}], \"pie\": [{\"automargin\": true, \"type\": \"pie\"}], \"scatter\": [{\"marker\": {\"colorbar\": {\"outlinewidth\": 0, \"ticks\": \"\"}}, \"type\": \"scatter\"}], \"scatter3d\": [{\"line\": {\"colorbar\": {\"outlinewidth\": 0, \"ticks\": \"\"}}, \"marker\": {\"colorbar\": {\"outlinewidth\": 0, \"ticks\": \"\"}}, \"type\": \"scatter3d\"}], \"scattercarpet\": [{\"marker\": {\"colorbar\": {\"outlinewidth\": 0, \"ticks\": \"\"}}, \"type\": \"scattercarpet\"}], \"scattergeo\": [{\"marker\": {\"colorbar\": {\"outlinewidth\": 0, \"ticks\": \"\"}}, \"type\": \"scattergeo\"}], \"scattergl\": [{\"marker\": {\"colorbar\": {\"outlinewidth\": 0, \"ticks\": \"\"}}, \"type\": \"scattergl\"}], \"scattermapbox\": [{\"marker\": {\"colorbar\": {\"outlinewidth\": 0, \"ticks\": \"\"}}, \"type\": \"scattermapbox\"}], \"scatterpolar\": [{\"marker\": {\"colorbar\": {\"outlinewidth\": 0, \"ticks\": \"\"}}, \"type\": \"scatterpolar\"}], \"scatterpolargl\": [{\"marker\": {\"colorbar\": {\"outlinewidth\": 0, \"ticks\": \"\"}}, \"type\": \"scatterpolargl\"}], \"scatterternary\": [{\"marker\": {\"colorbar\": {\"outlinewidth\": 0, \"ticks\": \"\"}}, \"type\": \"scatterternary\"}], \"surface\": [{\"colorbar\": {\"outlinewidth\": 0, \"ticks\": \"\"}, \"colorscale\": [[0.0, \"#0d0887\"], [0.1111111111111111, \"#46039f\"], [0.2222222222222222, \"#7201a8\"], [0.3333333333333333, \"#9c179e\"], [0.4444444444444444, \"#bd3786\"], [0.5555555555555556, \"#d8576b\"], [0.6666666666666666, \"#ed7953\"], [0.7777777777777778, \"#fb9f3a\"], [0.8888888888888888, \"#fdca26\"], [1.0, \"#f0f921\"]], \"type\": \"surface\"}], \"table\": [{\"cells\": {\"fill\": {\"color\": \"#EBF0F8\"}, \"line\": {\"color\": \"white\"}}, \"header\": {\"fill\": {\"color\": \"#C8D4E3\"}, \"line\": {\"color\": \"white\"}}, \"type\": \"table\"}]}, \"layout\": {\"annotationdefaults\": {\"arrowcolor\": \"#2a3f5f\", \"arrowhead\": 0, \"arrowwidth\": 1}, \"coloraxis\": {\"colorbar\": {\"outlinewidth\": 0, \"ticks\": \"\"}}, \"colorscale\": {\"diverging\": [[0, \"#8e0152\"], [0.1, \"#c51b7d\"], [0.2, \"#de77ae\"], [0.3, \"#f1b6da\"], [0.4, \"#fde0ef\"], [0.5, \"#f7f7f7\"], [0.6, \"#e6f5d0\"], [0.7, \"#b8e186\"], [0.8, \"#7fbc41\"], [0.9, \"#4d9221\"], [1, \"#276419\"]], \"sequential\": [[0.0, \"#0d0887\"], [0.1111111111111111, \"#46039f\"], [0.2222222222222222, \"#7201a8\"], [0.3333333333333333, \"#9c179e\"], [0.4444444444444444, \"#bd3786\"], [0.5555555555555556, \"#d8576b\"], [0.6666666666666666, \"#ed7953\"], [0.7777777777777778, \"#fb9f3a\"], [0.8888888888888888, \"#fdca26\"], [1.0, \"#f0f921\"]], \"sequentialminus\": [[0.0, \"#0d0887\"], [0.1111111111111111, \"#46039f\"], [0.2222222222222222, \"#7201a8\"], [0.3333333333333333, \"#9c179e\"], [0.4444444444444444, \"#bd3786\"], [0.5555555555555556, \"#d8576b\"], [0.6666666666666666, \"#ed7953\"], [0.7777777777777778, \"#fb9f3a\"], [0.8888888888888888, \"#fdca26\"], [1.0, \"#f0f921\"]]}, \"colorway\": [\"#636efa\", \"#EF553B\", \"#00cc96\", \"#ab63fa\", \"#FFA15A\", \"#19d3f3\", \"#FF6692\", \"#B6E880\", \"#FF97FF\", \"#FECB52\"], \"font\": {\"color\": \"#2a3f5f\"}, \"geo\": {\"bgcolor\": \"white\", \"lakecolor\": \"white\", \"landcolor\": \"#E5ECF6\", \"showlakes\": true, \"showland\": true, \"subunitcolor\": \"white\"}, \"hoverlabel\": {\"align\": \"left\"}, \"hovermode\": \"closest\", \"mapbox\": {\"style\": \"light\"}, \"paper_bgcolor\": \"white\", \"plot_bgcolor\": \"#E5ECF6\", \"polar\": {\"angularaxis\": {\"gridcolor\": \"white\", \"linecolor\": \"white\", \"ticks\": \"\"}, \"bgcolor\": \"#E5ECF6\", \"radialaxis\": {\"gridcolor\": \"white\", \"linecolor\": \"white\", \"ticks\": \"\"}}, \"scene\": {\"xaxis\": {\"backgroundcolor\": \"#E5ECF6\", \"gridcolor\": \"white\", \"gridwidth\": 2, \"linecolor\": \"white\", \"showbackground\": true, \"ticks\": \"\", \"zerolinecolor\": \"white\"}, \"yaxis\": {\"backgroundcolor\": \"#E5ECF6\", \"gridcolor\": \"white\", \"gridwidth\": 2, \"linecolor\": \"white\", \"showbackground\": true, \"ticks\": \"\", \"zerolinecolor\": \"white\"}, \"zaxis\": {\"backgroundcolor\": \"#E5ECF6\", \"gridcolor\": \"white\", \"gridwidth\": 2, \"linecolor\": \"white\", \"showbackground\": true, \"ticks\": \"\", \"zerolinecolor\": \"white\"}}, \"shapedefaults\": {\"line\": {\"color\": \"#2a3f5f\"}}, \"ternary\": {\"aaxis\": {\"gridcolor\": \"white\", \"linecolor\": \"white\", \"ticks\": \"\"}, \"baxis\": {\"gridcolor\": \"white\", \"linecolor\": \"white\", \"ticks\": \"\"}, \"bgcolor\": \"#E5ECF6\", \"caxis\": {\"gridcolor\": \"white\", \"linecolor\": \"white\", \"ticks\": \"\"}}, \"title\": {\"x\": 0.05}, \"xaxis\": {\"automargin\": true, \"gridcolor\": \"white\", \"linecolor\": \"white\", \"ticks\": \"\", \"title\": {\"standoff\": 15}, \"zerolinecolor\": \"white\", \"zerolinewidth\": 2}, \"yaxis\": {\"automargin\": true, \"gridcolor\": \"white\", \"linecolor\": \"white\", \"ticks\": \"\", \"title\": {\"standoff\": 15}, \"zerolinecolor\": \"white\", \"zerolinewidth\": 2}}}, \"width\": 1000, \"xaxis\": {\"anchor\": \"y\", \"domain\": [0.0, 1.0], \"range\": [0, 51], \"title\": {\"text\": \"ActiveCases\"}}, \"yaxis\": {\"anchor\": \"x\", \"domain\": [0.0, 1.0], \"title\": {\"text\": \"Name of State / UT\"}}},\n",
              "                        {\"responsive\": true}\n",
              "                    ).then(function(){\n",
              "                            \n",
              "var gd = document.getElementById('d076222e-f592-417b-926d-833f63c4b8b8');\n",
              "var x = new MutationObserver(function (mutations, observer) {{\n",
              "        var display = window.getComputedStyle(gd).display;\n",
              "        if (!display || display === 'none') {{\n",
              "            console.log([gd, 'removed!']);\n",
              "            Plotly.purge(gd);\n",
              "            observer.disconnect();\n",
              "        }}\n",
              "}});\n",
              "\n",
              "// Listen for the removal of the full notebook cells\n",
              "var notebookContainer = gd.closest('#notebook-container');\n",
              "if (notebookContainer) {{\n",
              "    x.observe(notebookContainer, {childList: true});\n",
              "}}\n",
              "\n",
              "// Listen for the clearing of the current output cell\n",
              "var outputEl = gd.closest('.output');\n",
              "if (outputEl) {{\n",
              "    x.observe(outputEl, {childList: true});\n",
              "}}\n",
              "\n",
              "                        })\n",
              "                };\n",
              "                \n",
              "            </script>\n",
              "        </div>\n",
              "</body>\n",
              "</html>"
            ]
          },
          "metadata": {
            "tags": []
          }
        }
      ]
    },
    {
      "cell_type": "code",
      "metadata": {
        "id": "FxT-CgSRacKE",
        "colab_type": "code",
        "outputId": "87db8fb1-f6bf-40f0-9df2-401c90fca07c",
        "colab": {
          "base_uri": "https://localhost:8080/",
          "height": 154
        }
      },
      "source": [
        "df_condensed=pd.DataFrame([df['ActiveCases'].sum(),df['Cured/Discharged/Migrated'].sum(),df['Deaths'].sum()],columns=['Cases'])\n",
        "df_condensed.index=['ActiveCases','Discharged','Deatch']\n",
        "print(df_condensed.head())\n",
        "\n",
        "\n",
        "fig=plt.figure(\n",
        "      FigureClass=Waffle,\n",
        "      rows=5,\n",
        "      values=df_condensed['Cases'],\n",
        "      labels=list(df_condensed.index),\n",
        "      figsize=(10,3),\n",
        "      legend={'loc':'upper left','bbox_to_anchor':(1.1,1)}\n",
        "    )"
      ],
      "execution_count": 17,
      "outputs": [
        {
          "output_type": "stream",
          "text": [
            "             Cases\n",
            "ActiveCases    196\n",
            "Discharged      23\n",
            "Deatch           4\n"
          ],
          "name": "stdout"
        },
        {
          "output_type": "display_data",
          "data": {
            "image/png": "[encoded data removed]",
            "text/plain": [
              "<Waffle size 720x216 with 1 Axes>"
            ]
          },
          "metadata": {
            "tags": []
          }
        }
      ]
    },
    {
      "cell_type": "markdown",
      "metadata": {
        "id": "oxNdNMFleOxa",
        "colab_type": "text"
      },
      "source": [
        "# National V/S Foreign Cases"
      ]
    },
    {
      "cell_type": "code",
      "metadata": {
        "id": "9RsQOnT1eObx",
        "colab_type": "code",
        "outputId": "3104a79d-0eda-4fe0-a48c-71e960871b7a",
        "colab": {
          "base_uri": "https://localhost:8080/",
          "height": 542
        }
      },
      "source": [
        "from plotly.subplots import make_subplots\n",
        "fig=make_subplots(\n",
        "      rows=1,cols=2,\n",
        "      subplot_titles=('National Cases','Foreign Cases'))\n",
        "\n",
        "temp=df.sort_values('Total Confirmed cases (Indian National)',ascending=False).sort_values('Total Confirmed cases (Indian National)',ascending=False)\n",
        "\n",
        "fig.add_trace(go.Bar(y=temp['Total Confirmed cases (Indian National)'],x=temp['Name of State / UT']),1,1)\n",
        "\n",
        "temp1=df.sort_values('Total Confirmed cases ( Foreign National )',ascending=False).sort_values('Total Confirmed cases ( Foreign National )',ascending=False)\n",
        "\n",
        "fig.add_trace(go.Bar(y=temp1['Total Confirmed cases ( Foreign National )'],x=temp1['Name of State / UT']),1,2)\n",
        "\n",
        "fig.show(renderer='colab')"
      ],
      "execution_count": 19,
      "outputs": [
        {
          "output_type": "display_data",
          "data": {
            "text/html": [
              "<html>\n",
              "<head><meta charset=\"utf-8\" /></head>\n",
              "<body>\n",
              "    <div>\n",
              "            <script src=\"https://cdnjs.cloudflare.com/ajax/libs/mathjax/2.7.5/MathJax.js?config=TeX-AMS-MML_SVG\"></script><script type=\"text/javascript\">if (window.MathJax) {MathJax.Hub.Config({SVG: {font: \"STIX-Web\"}});}</script>\n",
              "                <script type=\"text/javascript\">window.PlotlyConfig = {MathJaxConfig: 'local'};</script>\n",
              "        <script src=\"https://cdn.plot.ly/plotly-latest.min.js\"></script>    \n",
              "            <div id=\"17e19b86-2815-4c98-bbb7-953e7aec1773\" class=\"plotly-graph-div\" style=\"height:525px; width:100%;\"></div>\n",
              "            <script type=\"text/javascript\">\n",
              "                \n",
              "                    window.PLOTLYENV=window.PLOTLYENV || {};\n",
              "                    \n",
              "                if (document.getElementById(\"17e19b86-2815-4c98-bbb7-953e7aec1773\")) {\n",
              "                    Plotly.newPlot(\n",
              "                        '17e19b86-2815-4c98-bbb7-953e7aec1773',\n",
              "                        [{\"type\": \"bar\", \"x\": [\"Maharashtra\", \"Kerala\", \"Uttar Pradesh\", \"Delhi\", \"Karnataka\", \"Rajasthan\", \"Union Territory of Ladakh\", \"Telengana\", \"Gujarat\", \"Union Territory of Jammu and Kashmir\", \"Uttarakhand\", \"Tamil Nadu\", \"Andhra Pradesh\", \"Haryana\", \"Punjab\", \"Odisha\", \"West Bengal\", \"Union Territory of Chandigarh\", \"Chattisgarh\", \"Pondicherry\"], \"xaxis\": \"x\", \"y\": [49, 26, 22, 16, 15, 15, 10, 8, 5, 4, 3, 3, 3, 3, 2, 2, 2, 1, 1, 1], \"yaxis\": \"y\"}, {\"type\": \"bar\", \"x\": [\"Haryana\", \"Telengana\", \"Maharashtra\", \"Kerala\", \"Rajasthan\", \"Delhi\", \"Uttar Pradesh\", \"Tamil Nadu\", \"Gujarat\", \"Karnataka\", \"Odisha\", \"Pondicherry\", \"Chattisgarh\", \"Union Territory of Jammu and Kashmir\", \"Punjab\", \"Union Territory of Chandigarh\", \"Union Territory of Ladakh\", \"Uttarakhand\", \"Andhra Pradesh\", \"West Bengal\"], \"xaxis\": \"x2\", \"y\": [14, 9, 3, 2, 2, 1, 1, 0, 0, 0, 0, 0, 0, 0, 0, 0, 0, 0, 0, 0], \"yaxis\": \"y2\"}],\n",
              "                        {\"annotations\": [{\"font\": {\"size\": 16}, \"showarrow\": false, \"text\": \"National Cases\", \"x\": 0.225, \"xanchor\": \"center\", \"xref\": \"paper\", \"y\": 1.0, \"yanchor\": \"bottom\", \"yref\": \"paper\"}, {\"font\": {\"size\": 16}, \"showarrow\": false, \"text\": \"Foreign Cases\", \"x\": 0.775, \"xanchor\": \"center\", \"xref\": \"paper\", \"y\": 1.0, \"yanchor\": \"bottom\", \"yref\": \"paper\"}], \"template\": {\"data\": {\"bar\": [{\"error_x\": {\"color\": \"#2a3f5f\"}, \"error_y\": {\"color\": \"#2a3f5f\"}, \"marker\": {\"line\": {\"color\": \"#E5ECF6\", \"width\": 0.5}}, \"type\": \"bar\"}], \"barpolar\": [{\"marker\": {\"line\": {\"color\": \"#E5ECF6\", \"width\": 0.5}}, \"type\": \"barpolar\"}], \"carpet\": [{\"aaxis\": {\"endlinecolor\": \"#2a3f5f\", \"gridcolor\": \"white\", \"linecolor\": \"white\", \"minorgridcolor\": \"white\", \"startlinecolor\": \"#2a3f5f\"}, \"baxis\": {\"endlinecolor\": \"#2a3f5f\", \"gridcolor\": \"white\", \"linecolor\": \"white\", \"minorgridcolor\": \"white\", \"startlinecolor\": \"#2a3f5f\"}, \"type\": \"carpet\"}], \"choropleth\": [{\"colorbar\": {\"outlinewidth\": 0, \"ticks\": \"\"}, \"type\": \"choropleth\"}], \"contour\": [{\"colorbar\": {\"outlinewidth\": 0, \"ticks\": \"\"}, \"colorscale\": [[0.0, \"#0d0887\"], [0.1111111111111111, \"#46039f\"], [0.2222222222222222, \"#7201a8\"], [0.3333333333333333, \"#9c179e\"], [0.4444444444444444, \"#bd3786\"], [0.5555555555555556, \"#d8576b\"], [0.6666666666666666, \"#ed7953\"], [0.7777777777777778, \"#fb9f3a\"], [0.8888888888888888, \"#fdca26\"], [1.0, \"#f0f921\"]], \"type\": \"contour\"}], \"contourcarpet\": [{\"colorbar\": {\"outlinewidth\": 0, \"ticks\": \"\"}, \"type\": \"contourcarpet\"}], \"heatmap\": [{\"colorbar\": {\"outlinewidth\": 0, \"ticks\": \"\"}, \"colorscale\": [[0.0, \"#0d0887\"], [0.1111111111111111, \"#46039f\"], [0.2222222222222222, \"#7201a8\"], [0.3333333333333333, \"#9c179e\"], [0.4444444444444444, \"#bd3786\"], [0.5555555555555556, \"#d8576b\"], [0.6666666666666666, \"#ed7953\"], [0.7777777777777778, \"#fb9f3a\"], [0.8888888888888888, \"#fdca26\"], [1.0, \"#f0f921\"]], \"type\": \"heatmap\"}], \"heatmapgl\": [{\"colorbar\": {\"outlinewidth\": 0, \"ticks\": \"\"}, \"colorscale\": [[0.0, \"#0d0887\"], [0.1111111111111111, \"#46039f\"], [0.2222222222222222, \"#7201a8\"], [0.3333333333333333, \"#9c179e\"], [0.4444444444444444, \"#bd3786\"], [0.5555555555555556, \"#d8576b\"], [0.6666666666666666, \"#ed7953\"], [0.7777777777777778, \"#fb9f3a\"], [0.8888888888888888, \"#fdca26\"], [1.0, \"#f0f921\"]], \"type\": \"heatmapgl\"}], \"histogram\": [{\"marker\": {\"colorbar\": {\"outlinewidth\": 0, \"ticks\": \"\"}}, \"type\": \"histogram\"}], \"histogram2d\": [{\"colorbar\": {\"outlinewidth\": 0, \"ticks\": \"\"}, \"colorscale\": [[0.0, \"#0d0887\"], [0.1111111111111111, \"#46039f\"], [0.2222222222222222, \"#7201a8\"], [0.3333333333333333, \"#9c179e\"], [0.4444444444444444, \"#bd3786\"], [0.5555555555555556, \"#d8576b\"], [0.6666666666666666, \"#ed7953\"], [0.7777777777777778, \"#fb9f3a\"], [0.8888888888888888, \"#fdca26\"], [1.0, \"#f0f921\"]], \"type\": \"histogram2d\"}], \"histogram2dcontour\": [{\"colorbar\": {\"outlinewidth\": 0, \"ticks\": \"\"}, \"colorscale\": [[0.0, \"#0d0887\"], [0.1111111111111111, \"#46039f\"], [0.2222222222222222, \"#7201a8\"], [0.3333333333333333, \"#9c179e\"], [0.4444444444444444, \"#bd3786\"], [0.5555555555555556, \"#d8576b\"], [0.6666666666666666, \"#ed7953\"], [0.7777777777777778, \"#fb9f3a\"], [0.8888888888888888, \"#fdca26\"], [1.0, \"#f0f921\"]], \"type\": \"histogram2dcontour\"}], \"mesh3d\": [{\"colorbar\": {\"outlinewidth\": 0, \"ticks\": \"\"}, \"type\": \"mesh3d\"}], \"parcoords\": [{\"line\": {\"colorbar\": {\"outlinewidth\": 0, \"ticks\": \"\"}}, \"type\": \"parcoords\"}], \"pie\": [{\"automargin\": true, \"type\": \"pie\"}], \"scatter\": [{\"marker\": {\"colorbar\": {\"outlinewidth\": 0, \"ticks\": \"\"}}, \"type\": \"scatter\"}], \"scatter3d\": [{\"line\": {\"colorbar\": {\"outlinewidth\": 0, \"ticks\": \"\"}}, \"marker\": {\"colorbar\": {\"outlinewidth\": 0, \"ticks\": \"\"}}, \"type\": \"scatter3d\"}], \"scattercarpet\": [{\"marker\": {\"colorbar\": {\"outlinewidth\": 0, \"ticks\": \"\"}}, \"type\": \"scattercarpet\"}], \"scattergeo\": [{\"marker\": {\"colorbar\": {\"outlinewidth\": 0, \"ticks\": \"\"}}, \"type\": \"scattergeo\"}], \"scattergl\": [{\"marker\": {\"colorbar\": {\"outlinewidth\": 0, \"ticks\": \"\"}}, \"type\": \"scattergl\"}], \"scattermapbox\": [{\"marker\": {\"colorbar\": {\"outlinewidth\": 0, \"ticks\": \"\"}}, \"type\": \"scattermapbox\"}], \"scatterpolar\": [{\"marker\": {\"colorbar\": {\"outlinewidth\": 0, \"ticks\": \"\"}}, \"type\": \"scatterpolar\"}], \"scatterpolargl\": [{\"marker\": {\"colorbar\": {\"outlinewidth\": 0, \"ticks\": \"\"}}, \"type\": \"scatterpolargl\"}], \"scatterternary\": [{\"marker\": {\"colorbar\": {\"outlinewidth\": 0, \"ticks\": \"\"}}, \"type\": \"scatterternary\"}], \"surface\": [{\"colorbar\": {\"outlinewidth\": 0, \"ticks\": \"\"}, \"colorscale\": [[0.0, \"#0d0887\"], [0.1111111111111111, \"#46039f\"], [0.2222222222222222, \"#7201a8\"], [0.3333333333333333, \"#9c179e\"], [0.4444444444444444, \"#bd3786\"], [0.5555555555555556, \"#d8576b\"], [0.6666666666666666, \"#ed7953\"], [0.7777777777777778, \"#fb9f3a\"], [0.8888888888888888, \"#fdca26\"], [1.0, \"#f0f921\"]], \"type\": \"surface\"}], \"table\": [{\"cells\": {\"fill\": {\"color\": \"#EBF0F8\"}, \"line\": {\"color\": \"white\"}}, \"header\": {\"fill\": {\"color\": \"#C8D4E3\"}, \"line\": {\"color\": \"white\"}}, \"type\": \"table\"}]}, \"layout\": {\"annotationdefaults\": {\"arrowcolor\": \"#2a3f5f\", \"arrowhead\": 0, \"arrowwidth\": 1}, \"coloraxis\": {\"colorbar\": {\"outlinewidth\": 0, \"ticks\": \"\"}}, \"colorscale\": {\"diverging\": [[0, \"#8e0152\"], [0.1, \"#c51b7d\"], [0.2, \"#de77ae\"], [0.3, \"#f1b6da\"], [0.4, \"#fde0ef\"], [0.5, \"#f7f7f7\"], [0.6, \"#e6f5d0\"], [0.7, \"#b8e186\"], [0.8, \"#7fbc41\"], [0.9, \"#4d9221\"], [1, \"#276419\"]], \"sequential\": [[0.0, \"#0d0887\"], [0.1111111111111111, \"#46039f\"], [0.2222222222222222, \"#7201a8\"], [0.3333333333333333, \"#9c179e\"], [0.4444444444444444, \"#bd3786\"], [0.5555555555555556, \"#d8576b\"], [0.6666666666666666, \"#ed7953\"], [0.7777777777777778, \"#fb9f3a\"], [0.8888888888888888, \"#fdca26\"], [1.0, \"#f0f921\"]], \"sequentialminus\": [[0.0, \"#0d0887\"], [0.1111111111111111, \"#46039f\"], [0.2222222222222222, \"#7201a8\"], [0.3333333333333333, \"#9c179e\"], [0.4444444444444444, \"#bd3786\"], [0.5555555555555556, \"#d8576b\"], [0.6666666666666666, \"#ed7953\"], [0.7777777777777778, \"#fb9f3a\"], [0.8888888888888888, \"#fdca26\"], [1.0, \"#f0f921\"]]}, \"colorway\": [\"#636efa\", \"#EF553B\", \"#00cc96\", \"#ab63fa\", \"#FFA15A\", \"#19d3f3\", \"#FF6692\", \"#B6E880\", \"#FF97FF\", \"#FECB52\"], \"font\": {\"color\": \"#2a3f5f\"}, \"geo\": {\"bgcolor\": \"white\", \"lakecolor\": \"white\", \"landcolor\": \"#E5ECF6\", \"showlakes\": true, \"showland\": true, \"subunitcolor\": \"white\"}, \"hoverlabel\": {\"align\": \"left\"}, \"hovermode\": \"closest\", \"mapbox\": {\"style\": \"light\"}, \"paper_bgcolor\": \"white\", \"plot_bgcolor\": \"#E5ECF6\", \"polar\": {\"angularaxis\": {\"gridcolor\": \"white\", \"linecolor\": \"white\", \"ticks\": \"\"}, \"bgcolor\": \"#E5ECF6\", \"radialaxis\": {\"gridcolor\": \"white\", \"linecolor\": \"white\", \"ticks\": \"\"}}, \"scene\": {\"xaxis\": {\"backgroundcolor\": \"#E5ECF6\", \"gridcolor\": \"white\", \"gridwidth\": 2, \"linecolor\": \"white\", \"showbackground\": true, \"ticks\": \"\", \"zerolinecolor\": \"white\"}, \"yaxis\": {\"backgroundcolor\": \"#E5ECF6\", \"gridcolor\": \"white\", \"gridwidth\": 2, \"linecolor\": \"white\", \"showbackground\": true, \"ticks\": \"\", \"zerolinecolor\": \"white\"}, \"zaxis\": {\"backgroundcolor\": \"#E5ECF6\", \"gridcolor\": \"white\", \"gridwidth\": 2, \"linecolor\": \"white\", \"showbackground\": true, \"ticks\": \"\", \"zerolinecolor\": \"white\"}}, \"shapedefaults\": {\"line\": {\"color\": \"#2a3f5f\"}}, \"ternary\": {\"aaxis\": {\"gridcolor\": \"white\", \"linecolor\": \"white\", \"ticks\": \"\"}, \"baxis\": {\"gridcolor\": \"white\", \"linecolor\": \"white\", \"ticks\": \"\"}, \"bgcolor\": \"#E5ECF6\", \"caxis\": {\"gridcolor\": \"white\", \"linecolor\": \"white\", \"ticks\": \"\"}}, \"title\": {\"x\": 0.05}, \"xaxis\": {\"automargin\": true, \"gridcolor\": \"white\", \"linecolor\": \"white\", \"ticks\": \"\", \"title\": {\"standoff\": 15}, \"zerolinecolor\": \"white\", \"zerolinewidth\": 2}, \"yaxis\": {\"automargin\": true, \"gridcolor\": \"white\", \"linecolor\": \"white\", \"ticks\": \"\", \"title\": {\"standoff\": 15}, \"zerolinecolor\": \"white\", \"zerolinewidth\": 2}}}, \"xaxis\": {\"anchor\": \"y\", \"domain\": [0.0, 0.45]}, \"xaxis2\": {\"anchor\": \"y2\", \"domain\": [0.55, 1.0]}, \"yaxis\": {\"anchor\": \"x\", \"domain\": [0.0, 1.0]}, \"yaxis2\": {\"anchor\": \"x2\", \"domain\": [0.0, 1.0]}},\n",
              "                        {\"responsive\": true}\n",
              "                    ).then(function(){\n",
              "                            \n",
              "var gd = document.getElementById('17e19b86-2815-4c98-bbb7-953e7aec1773');\n",
              "var x = new MutationObserver(function (mutations, observer) {{\n",
              "        var display = window.getComputedStyle(gd).display;\n",
              "        if (!display || display === 'none') {{\n",
              "            console.log([gd, 'removed!']);\n",
              "            Plotly.purge(gd);\n",
              "            observer.disconnect();\n",
              "        }}\n",
              "}});\n",
              "\n",
              "// Listen for the removal of the full notebook cells\n",
              "var notebookContainer = gd.closest('#notebook-container');\n",
              "if (notebookContainer) {{\n",
              "    x.observe(notebookContainer, {childList: true});\n",
              "}}\n",
              "\n",
              "// Listen for the clearing of the current output cell\n",
              "var outputEl = gd.closest('.output');\n",
              "if (outputEl) {{\n",
              "    x.observe(outputEl, {childList: true});\n",
              "}}\n",
              "\n",
              "                        })\n",
              "                };\n",
              "                \n",
              "            </script>\n",
              "        </div>\n",
              "</body>\n",
              "</html>"
            ]
          },
          "metadata": {
            "tags": []
          }
        }
      ]
    },
    {
      "cell_type": "code",
      "metadata": {
        "id": "G_CjgSg3uRg6",
        "colab_type": "code",
        "outputId": "726d0a0a-9499-4ee8-ad10-512c398349fb",
        "colab": {
          "base_uri": "https://localhost:8080/",
          "height": 204
        }
      },
      "source": [
        "India_coord = pd.read_excel('https://github.com/ParasNandwani/EDA_PROJECT/blob/master/CoronaVirusIndia/Indian%20Coordinates.xlsx?raw=True',encoding='utf-8')\n",
        "India_coord.head(5)"
      ],
      "execution_count": 20,
      "outputs": [
        {
          "output_type": "execute_result",
          "data": {
            "text/html": [
              "<div>\n",
              "<style scoped>\n",
              "    .dataframe tbody tr th:only-of-type {\n",
              "        vertical-align: middle;\n",
              "    }\n",
              "\n",
              "    .dataframe tbody tr th {\n",
              "        vertical-align: top;\n",
              "    }\n",
              "\n",
              "    .dataframe thead th {\n",
              "        text-align: right;\n",
              "    }\n",
              "</style>\n",
              "<table border=\"1\" class=\"dataframe\">\n",
              "  <thead>\n",
              "    <tr style=\"text-align: right;\">\n",
              "      <th></th>\n",
              "      <th>Name of State / UT</th>\n",
              "      <th>Latitude</th>\n",
              "      <th>Longitude</th>\n",
              "    </tr>\n",
              "  </thead>\n",
              "  <tbody>\n",
              "    <tr>\n",
              "      <th>0</th>\n",
              "      <td>Andaman And Nicobar</td>\n",
              "      <td>11.667026</td>\n",
              "      <td>92.735983</td>\n",
              "    </tr>\n",
              "    <tr>\n",
              "      <th>1</th>\n",
              "      <td>Andhra Pradesh</td>\n",
              "      <td>14.750429</td>\n",
              "      <td>78.570026</td>\n",
              "    </tr>\n",
              "    <tr>\n",
              "      <th>2</th>\n",
              "      <td>Arunachal Pradesh</td>\n",
              "      <td>27.100399</td>\n",
              "      <td>93.616601</td>\n",
              "    </tr>\n",
              "    <tr>\n",
              "      <th>3</th>\n",
              "      <td>Assam</td>\n",
              "      <td>26.749981</td>\n",
              "      <td>94.216667</td>\n",
              "    </tr>\n",
              "    <tr>\n",
              "      <th>4</th>\n",
              "      <td>Bihar</td>\n",
              "      <td>25.785414</td>\n",
              "      <td>87.479973</td>\n",
              "    </tr>\n",
              "  </tbody>\n",
              "</table>\n",
              "</div>"
            ],
            "text/plain": [
              "     Name of State / UT   Latitude  Longitude\n",
              "0  Andaman And Nicobar   11.667026  92.735983\n",
              "1        Andhra Pradesh  14.750429  78.570026\n",
              "2    Arunachal Pradesh   27.100399  93.616601\n",
              "3                Assam   26.749981  94.216667\n",
              "4                Bihar   25.785414  87.479973"
            ]
          },
          "metadata": {
            "tags": []
          },
          "execution_count": 20
        }
      ]
    },
    {
      "cell_type": "markdown",
      "metadata": {
        "id": "lNJYNjEHt1sm",
        "colab_type": "text"
      },
      "source": [
        "# Visualising the Spread Geographically"
      ]
    },
    {
      "cell_type": "code",
      "metadata": {
        "id": "X5lDuoM_eH1n",
        "colab_type": "code",
        "outputId": "ad247dfd-1e76-4c4f-a391-b34244d67929",
        "colab": {
          "base_uri": "https://localhost:8080/",
          "height": 808
        }
      },
      "source": [
        "df_full=pd.merge(India_coord,df,on='Name of State / UT')\n",
        "df_full.head()\n",
        "\n",
        "map=folium.Map(location=[20,80],zoom_start=3.5,tiles='Stamen Toner')\n",
        "for lat,long,value,name in zip(df_full['Latitude'],df_full['Longitude'],df_full['ActiveCases'],df_full['Name of State / UT']):\n",
        "    folium.CircleMarker([lat,long],radius=value*0.7,\n",
        "                        popup=('<strong> State </strong>:'+ str(name).capitalize()),color='red',fill_color='red',opacity=0.3).add_to(map)\n",
        "\n",
        "map"
      ],
      "execution_count": 33,
      "outputs": [
        {
          "output_type": "execute_result",
          "data": {
            "text/html": [
              "<div style=\"width:100%;\"><div style=\"position:relative;width:100%;height:0;padding-bottom:60%;\"><iframe src=\"about:blank\" style=\"position:absolute;width:100%;height:100%;left:0;top:0;border:none !important;\" data-html=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 onload=\"this.contentDocument.open();this.contentDocument.write(atob(this.getAttribute('data-html')));this.contentDocument.close();\" allowfullscreen webkitallowfullscreen mozallowfullscreen></iframe></div></div>"
            ],
            "text/plain": [
              "<folium.folium.Map at 0x7efdaca74668>"
            ]
          },
          "metadata": {
            "tags": []
          },
          "execution_count": 33
        }
      ]
    },
    {
      "cell_type": "code",
      "metadata": {
        "id": "Lc_4QWsmj7nF",
        "colab_type": "code",
        "colab": {
          "base_uri": "https://localhost:8080/",
          "height": 323
        },
        "outputId": "58c249bf-c1ba-4cdd-9d21-2370146209df"
      },
      "source": [
        "for lat,long,val,name in zip(df_full['Latitude'],df_full['Longitude'],df_full['ActiveCases'],df_full['Name of State / UT']):\n",
        "  print(lat,long,val,name)"
      ],
      "execution_count": 35,
      "outputs": [
        {
          "output_type": "stream",
          "text": [
            "14.7504291 78.57002559 3 Andhra Pradesh\n",
            "30.71999697 76.78000565 1 Union Territory of Chandigarh\n",
            "28.6699929 77.23000403 11 Delhi\n",
            "28.45000633 77.01999101 17 Haryana\n",
            "33.45 76.24 4 Union Territory of Jammu and Kashmir\n",
            "12.57038129 76.91999711 13 Karnataka\n",
            "8.900372741 76.56999263 25 Kerala\n",
            "19.25023195 73.16017493 51 Maharashtra\n",
            "19.82042971 85.90001746 2 Odisha\n",
            "11.93499371 79.83000037 1 Pondicherry\n",
            "31.51997398 75.98000281 1 Punjab\n",
            "26.44999921 74.63998124 14 Rajasthan\n",
            "18.1124 79.0193 16 Telengana\n",
            "12.92038576 79.15004187 2 Tamil Nadu\n",
            "27.59998069 78.05000565 14 Uttar Pradesh\n",
            "30.32040895 78.05000565 3 Uttarakhand\n",
            "34.1 77.34 10 Union Territory of Ladakh\n",
            "22.2587 71.1924 5 Gujarat\n"
          ],
          "name": "stdout"
        }
      ]
    },
    {
      "cell_type": "markdown",
      "metadata": {
        "id": "OZulIpM3kV6n",
        "colab_type": "text"
      },
      "source": [
        "#Confirmed and Recovered Cases\n"
      ]
    },
    {
      "cell_type": "code",
      "metadata": {
        "id": "AmrfLUjUkIaA",
        "colab_type": "code",
        "colab": {
          "base_uri": "https://localhost:8080/",
          "height": 533
        },
        "outputId": "895b4ed1-33b9-406e-8b1e-ba92eb8c5b22"
      },
      "source": [
        "f,ax=plt.subplots(figsize=(12,8))\n",
        "data = df_full[['Name of State / UT','TotalCases','Cured/Discharged/Migrated','Deaths']]\n",
        "data.sort_values('TotalCases',ascending=False,inplace=True)\n",
        "sns.set_color_codes(\"pastel\")\n",
        "sns.barplot(x='TotalCases',y='Name of State / UT',data=data,label='Total',color='r')\n",
        "sns.set_color_codes(\"muted\")\n",
        "sns.barplot(x='Cured/Discharged/Migrated',y='Name of State / UT',data=data,label='Recoverd',color='g')\n",
        "ax.legend(ncol=2, loc=\"lower right\", frameon=True)\n",
        "ax.set(xlim=(0, 35), ylabel=\"\",\n",
        "       xlabel=\"Cases\")\n",
        "sns.despine(left=True, bottom=True)"
      ],
      "execution_count": 39,
      "outputs": [
        {
          "output_type": "display_data",
          "data": {
            "image/png": "[encoded data removed]",
            "text/plain": [
              "<Figure size 864x576 with 1 Axes>"
            ]
          },
          "metadata": {
            "tags": []
          }
        }
      ]
    }
  ]
}